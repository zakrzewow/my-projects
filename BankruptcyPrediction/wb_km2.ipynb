{
 "cells": [
  {
   "cell_type": "markdown",
   "metadata": {},
   "source": [
    "# Projekt\n",
    "Zbiór danych: https://archive.ics.uci.edu/ml/datasets/Polish+companies+bankruptcy+data"
   ]
  },
  {
   "cell_type": "code",
   "execution_count": 33,
   "metadata": {},
   "outputs": [],
   "source": [
    "import os\n",
    "\n",
    "import matplotlib.pyplot as plt\n",
    "import seaborn as sns\n",
    "\n",
    "import numpy as np\n",
    "import pandas as pd\n",
    "\n",
    "from sklearn.model_selection import train_test_split\n",
    "from sklearn.metrics import confusion_matrix, precision_score, recall_score, roc_auc_score, roc_curve, auc, f1_score, classification_report, ConfusionMatrixDisplay, precision_recall_curve, PrecisionRecallDisplay\n",
    "from sklearn.pipeline import Pipeline, make_pipeline\n",
    "from sklearn.base import BaseEstimator, TransformerMixin\n",
    "from sklearn.preprocessing import StandardScaler\n",
    "from sklearn.linear_model import LogisticRegression, SGDClassifier\n",
    "from sklearn.svm import LinearSVC, SVC\n",
    "from sklearn.ensemble import RandomForestClassifier\n",
    "import xgboost\n",
    "\n",
    "import warnings\n",
    "from sklearn.exceptions import ConvergenceWarning\n",
    "warnings.simplefilter(action='ignore', category=FutureWarning)\n",
    "warnings.simplefilter(action='ignore', category=ConvergenceWarning)\n",
    "# warnings.simplefilter(action='ignore', category=UserWarning)\n",
    "\n",
    "plt.rcParams['figure.figsize'] = (16,6)\n",
    "sns.set(font_scale = 1.2)\n",
    "sns.set_style(\"ticks\",{'axes.grid' : True})\n",
    "sns.set_palette(\"deep\")"
   ]
  },
  {
   "cell_type": "markdown",
   "metadata": {},
   "source": [
    "## Wczytanie danych"
   ]
  },
  {
   "cell_type": "code",
   "execution_count": 2,
   "metadata": {},
   "outputs": [
    {
     "data": {
      "text/html": [
       "<div>\n",
       "<style scoped>\n",
       "    .dataframe tbody tr th:only-of-type {\n",
       "        vertical-align: middle;\n",
       "    }\n",
       "\n",
       "    .dataframe tbody tr th {\n",
       "        vertical-align: top;\n",
       "    }\n",
       "\n",
       "    .dataframe thead th {\n",
       "        text-align: right;\n",
       "    }\n",
       "</style>\n",
       "<table border=\"1\" class=\"dataframe\">\n",
       "  <thead>\n",
       "    <tr style=\"text-align: right;\">\n",
       "      <th></th>\n",
       "      <th>Attr1</th>\n",
       "      <th>Attr2</th>\n",
       "      <th>Attr3</th>\n",
       "      <th>Attr4</th>\n",
       "      <th>Attr5</th>\n",
       "      <th>Attr6</th>\n",
       "      <th>Attr7</th>\n",
       "      <th>Attr8</th>\n",
       "      <th>Attr9</th>\n",
       "      <th>Attr10</th>\n",
       "      <th>...</th>\n",
       "      <th>Attr58</th>\n",
       "      <th>Attr59</th>\n",
       "      <th>Attr60</th>\n",
       "      <th>Attr61</th>\n",
       "      <th>Attr62</th>\n",
       "      <th>Attr63</th>\n",
       "      <th>Attr64</th>\n",
       "      <th>class</th>\n",
       "      <th>bankruptcy_after</th>\n",
       "      <th>year</th>\n",
       "    </tr>\n",
       "  </thead>\n",
       "  <tbody>\n",
       "    <tr>\n",
       "      <th>0</th>\n",
       "      <td>0.200550</td>\n",
       "      <td>0.37951</td>\n",
       "      <td>0.39641</td>\n",
       "      <td>2.0472</td>\n",
       "      <td>32.3510</td>\n",
       "      <td>0.38825</td>\n",
       "      <td>0.249760</td>\n",
       "      <td>1.33050</td>\n",
       "      <td>1.1389</td>\n",
       "      <td>0.50494</td>\n",
       "      <td>...</td>\n",
       "      <td>0.87804</td>\n",
       "      <td>0.001924</td>\n",
       "      <td>8.4160</td>\n",
       "      <td>5.1372</td>\n",
       "      <td>82.658</td>\n",
       "      <td>4.4158</td>\n",
       "      <td>7.4277</td>\n",
       "      <td>0</td>\n",
       "      <td>0</td>\n",
       "      <td>1</td>\n",
       "    </tr>\n",
       "    <tr>\n",
       "      <th>1</th>\n",
       "      <td>0.209120</td>\n",
       "      <td>0.49988</td>\n",
       "      <td>0.47225</td>\n",
       "      <td>1.9447</td>\n",
       "      <td>14.7860</td>\n",
       "      <td>0.00000</td>\n",
       "      <td>0.258340</td>\n",
       "      <td>0.99601</td>\n",
       "      <td>1.6996</td>\n",
       "      <td>0.49788</td>\n",
       "      <td>...</td>\n",
       "      <td>0.85300</td>\n",
       "      <td>0.000000</td>\n",
       "      <td>4.1486</td>\n",
       "      <td>3.2732</td>\n",
       "      <td>107.350</td>\n",
       "      <td>3.4000</td>\n",
       "      <td>60.9870</td>\n",
       "      <td>0</td>\n",
       "      <td>0</td>\n",
       "      <td>1</td>\n",
       "    </tr>\n",
       "    <tr>\n",
       "      <th>2</th>\n",
       "      <td>0.248660</td>\n",
       "      <td>0.69592</td>\n",
       "      <td>0.26713</td>\n",
       "      <td>1.5548</td>\n",
       "      <td>-1.1523</td>\n",
       "      <td>0.00000</td>\n",
       "      <td>0.309060</td>\n",
       "      <td>0.43695</td>\n",
       "      <td>1.3090</td>\n",
       "      <td>0.30408</td>\n",
       "      <td>...</td>\n",
       "      <td>0.76599</td>\n",
       "      <td>0.694840</td>\n",
       "      <td>4.9909</td>\n",
       "      <td>3.9510</td>\n",
       "      <td>134.270</td>\n",
       "      <td>2.7185</td>\n",
       "      <td>5.2078</td>\n",
       "      <td>0</td>\n",
       "      <td>0</td>\n",
       "      <td>1</td>\n",
       "    </tr>\n",
       "    <tr>\n",
       "      <th>3</th>\n",
       "      <td>0.081483</td>\n",
       "      <td>0.30734</td>\n",
       "      <td>0.45879</td>\n",
       "      <td>2.4928</td>\n",
       "      <td>51.9520</td>\n",
       "      <td>0.14988</td>\n",
       "      <td>0.092704</td>\n",
       "      <td>1.86610</td>\n",
       "      <td>1.0571</td>\n",
       "      <td>0.57353</td>\n",
       "      <td>...</td>\n",
       "      <td>0.94598</td>\n",
       "      <td>0.000000</td>\n",
       "      <td>4.5746</td>\n",
       "      <td>3.6147</td>\n",
       "      <td>86.435</td>\n",
       "      <td>4.2228</td>\n",
       "      <td>5.5497</td>\n",
       "      <td>0</td>\n",
       "      <td>0</td>\n",
       "      <td>1</td>\n",
       "    </tr>\n",
       "    <tr>\n",
       "      <th>4</th>\n",
       "      <td>0.187320</td>\n",
       "      <td>0.61323</td>\n",
       "      <td>0.22960</td>\n",
       "      <td>1.4063</td>\n",
       "      <td>-7.3128</td>\n",
       "      <td>0.18732</td>\n",
       "      <td>0.187320</td>\n",
       "      <td>0.63070</td>\n",
       "      <td>1.1559</td>\n",
       "      <td>0.38677</td>\n",
       "      <td>...</td>\n",
       "      <td>0.86515</td>\n",
       "      <td>0.124440</td>\n",
       "      <td>6.3985</td>\n",
       "      <td>4.3158</td>\n",
       "      <td>127.210</td>\n",
       "      <td>2.8692</td>\n",
       "      <td>7.8980</td>\n",
       "      <td>0</td>\n",
       "      <td>0</td>\n",
       "      <td>1</td>\n",
       "    </tr>\n",
       "  </tbody>\n",
       "</table>\n",
       "<p>5 rows × 67 columns</p>\n",
       "</div>"
      ],
      "text/plain": [
       "      Attr1    Attr2    Attr3   Attr4    Attr5    Attr6     Attr7    Attr8  \\\n",
       "0  0.200550  0.37951  0.39641  2.0472  32.3510  0.38825  0.249760  1.33050   \n",
       "1  0.209120  0.49988  0.47225  1.9447  14.7860  0.00000  0.258340  0.99601   \n",
       "2  0.248660  0.69592  0.26713  1.5548  -1.1523  0.00000  0.309060  0.43695   \n",
       "3  0.081483  0.30734  0.45879  2.4928  51.9520  0.14988  0.092704  1.86610   \n",
       "4  0.187320  0.61323  0.22960  1.4063  -7.3128  0.18732  0.187320  0.63070   \n",
       "\n",
       "    Attr9   Attr10  ...   Attr58    Attr59  Attr60  Attr61   Attr62  Attr63  \\\n",
       "0  1.1389  0.50494  ...  0.87804  0.001924  8.4160  5.1372   82.658  4.4158   \n",
       "1  1.6996  0.49788  ...  0.85300  0.000000  4.1486  3.2732  107.350  3.4000   \n",
       "2  1.3090  0.30408  ...  0.76599  0.694840  4.9909  3.9510  134.270  2.7185   \n",
       "3  1.0571  0.57353  ...  0.94598  0.000000  4.5746  3.6147   86.435  4.2228   \n",
       "4  1.1559  0.38677  ...  0.86515  0.124440  6.3985  4.3158  127.210  2.8692   \n",
       "\n",
       "    Attr64  class  bankruptcy_after  year  \n",
       "0   7.4277      0                 0     1  \n",
       "1  60.9870      0                 0     1  \n",
       "2   5.2078      0                 0     1  \n",
       "3   5.5497      0                 0     1  \n",
       "4   7.8980      0                 0     1  \n",
       "\n",
       "[5 rows x 67 columns]"
      ]
     },
     "execution_count": 2,
     "metadata": {},
     "output_type": "execute_result"
    }
   ],
   "source": [
    "df = pd.read_csv(os.path.join('data', 'dataset.csv'))\n",
    "df.head()"
   ]
  },
  {
   "cell_type": "markdown",
   "metadata": {},
   "source": [
    "## Podsumowanie po KM1\n",
    "* firmy, które zbankrutowały, stanowią niewielką liczbę wszystkich obserwacji, ok. 5%\n",
    "* możemy usunąć kolumny `X27`, `X21`, `X37` ze względu na dużą liczbę braków danych\n",
    "* możemy usunąć w większości puste wiersze\n",
    "* należy zapełnić braki danych w kolumnach, ponieważ każda kolumna pewne braki ma; najlepiej przez medianę, ze względu na wartości odstające\n",
    "* żadna kolumna nie wydaje się być szczególnie mocno skorelowana z naszymi docelowymi kategoriami\n",
    "* istnieją grupy bardzo mocno skorelowanych zmiennych; można rozważyć zostawienie tylko jednej kolumny z każdej grupy\n",
    "* można rozważyć noramlizację zmiennych, ponieważ występuja one w różnych rzędach wielkości \n",
    "* wszystkie zmienne mają bardzo dużo wartości odstających oraz koncentrują się w okolicach zera (poza `X27`)\n",
    "* nie możemy usunąć obserwacji o wielu wartościach odstających, ponieważ byśmy pozbyli się wielu firm, które zbankrutowały"
   ]
  },
  {
   "cell_type": "markdown",
   "metadata": {},
   "source": [
    "# Kamień milowy 2"
   ]
  },
  {
   "cell_type": "markdown",
   "metadata": {},
   "source": [
    "## Przygotowanie danych"
   ]
  },
  {
   "cell_type": "code",
   "execution_count": 7,
   "metadata": {},
   "outputs": [],
   "source": [
    "y = df['class']\n",
    "y2 = df['bankruptcy_after']\n",
    "X = df.drop(['class', 'bankruptcy_after', 'year'], axis = 1)"
   ]
  },
  {
   "cell_type": "markdown",
   "metadata": {},
   "source": [
    "#### Usuwanie kolumn zawierających dużo braków danych"
   ]
  },
  {
   "cell_type": "code",
   "execution_count": 8,
   "metadata": {},
   "outputs": [],
   "source": [
    "X = X.drop([\"Attr27\",\"Attr21\",\"Attr37\"], axis = 1)"
   ]
  },
  {
   "cell_type": "markdown",
   "metadata": {},
   "source": [
    "#### Usuwanie kolumn silnie skorelowane z innymi\n",
    "Usuwamy wszystkie kolumny silnie skorelowane z innymi. Zosatwiamy po jednej kolumnie z każdej grupy."
   ]
  },
  {
   "cell_type": "code",
   "execution_count": 9,
   "metadata": {},
   "outputs": [],
   "source": [
    "## pierwszy model zadziałał lepiej bez tego;\n",
    "## teraz to jest Transformer, można dodawać opcjonalnie\n",
    "\n",
    "class OutlierCutter(BaseEstimator, TransformerMixin):\n",
    "    def __init__(self):\n",
    "        pass\n",
    "    \n",
    "    def fit(self, X, y=None):\n",
    "        return self\n",
    "\n",
    "    def transform(self, X, y=None):\n",
    "        columns_to_drop = ['Attr51', 'Attr2','Attr50', 'Attr4','Attr14', 'Attr18', 'Attr7', 'Attr8', 'Attr36', 'Attr63', 'Attr9', 'Attr10', 'Attr26', 'Attr12', 'Attr31', 'Attr19','Attr43', 'Attr44', 'Attr49', 'Attr56', 'Attr58', 'Attr20','Attr48', 'Attr63', 'Attr22', 'Attr52', 'Attr32', 'Attr34','Attr64', 'Attr53']\n",
    "        return X.drop(columns_to_drop, axis = 1)"
   ]
  },
  {
   "cell_type": "markdown",
   "metadata": {},
   "source": [
    "#### Usunięcie wierszy, ktore mają conajmniej 7 braków danych."
   ]
  },
  {
   "cell_type": "code",
   "execution_count": 10,
   "metadata": {},
   "outputs": [],
   "source": [
    "y = y[X.isna().sum(axis=1) <= 7]\n",
    "y2 = y2[X.isna().sum(axis=1) <= 7]\n",
    "X = X[X.isna().sum(axis=1) <= 7]"
   ]
  },
  {
   "cell_type": "markdown",
   "metadata": {},
   "source": [
    "#### Braki danych\n",
    "Zastępujemy braki danych w kolumnach medianą z poszczególnych zmiennych."
   ]
  },
  {
   "cell_type": "code",
   "execution_count": 11,
   "metadata": {},
   "outputs": [],
   "source": [
    "X.fillna(X.median(), inplace=True)"
   ]
  },
  {
   "cell_type": "markdown",
   "metadata": {},
   "source": [
    "#### Przycinanie outlierów\n",
    "Przycięcie (nie usunięcie!) wartości odstających, tzn. 2% na wartości najmniejszych i największych sprowadzone do odpowiednich \"kwanyli\" rzędu 0.02 i 0.98"
   ]
  },
  {
   "cell_type": "code",
   "execution_count": 12,
   "metadata": {},
   "outputs": [],
   "source": [
    "Q_02 = X.quantile(0.02)\n",
    "Q_98 = X.quantile(0.98)\n",
    "for col in X.columns:\n",
    "    X.loc[X[col] < Q_02[col], col] = Q_02[col]\n",
    "    X.loc[X[col] > Q_98[col], col] = Q_98[col]"
   ]
  },
  {
   "cell_type": "markdown",
   "metadata": {},
   "source": [
    "#### Normalizacja zmiennych"
   ]
  },
  {
   "cell_type": "code",
   "execution_count": 13,
   "metadata": {},
   "outputs": [],
   "source": [
    "for col in X:\n",
    "    transf = X[col].values.reshape(-1,1)\n",
    "    scaler = StandardScaler().fit(transf)\n",
    "    X[col] = scaler.transform(transf)"
   ]
  },
  {
   "cell_type": "markdown",
   "metadata": {},
   "source": [
    "#### Dodanie kolumny informującej o liczbie wartości odstających w wierszu"
   ]
  },
  {
   "cell_type": "code",
   "execution_count": 14,
   "metadata": {},
   "outputs": [],
   "source": [
    "Q1 = X.quantile(0.25)\n",
    "Q3 = X.quantile(0.75)\n",
    "IQR = Q3 - Q1\n",
    "X['outliers_count'] = ((X < (Q1 - 1.5*IQR)) | (X > (Q3 + 1.5*IQR))).sum(axis=1)"
   ]
  },
  {
   "cell_type": "markdown",
   "metadata": {},
   "source": [
    "### Podział danych na zbiory treningowy, testowy i walidcyjny\n",
    "Podział w proporcji 60% / 20% / 20%. Zbiór walidcyjny będzie zachowany do finlalnej ewalucji modelu."
   ]
  },
  {
   "cell_type": "code",
   "execution_count": 15,
   "metadata": {
    "scrolled": false
   },
   "outputs": [
    {
     "data": {
      "text/html": [
       "<div>\n",
       "<style scoped>\n",
       "    .dataframe tbody tr th:only-of-type {\n",
       "        vertical-align: middle;\n",
       "    }\n",
       "\n",
       "    .dataframe tbody tr th {\n",
       "        vertical-align: top;\n",
       "    }\n",
       "\n",
       "    .dataframe thead th {\n",
       "        text-align: right;\n",
       "    }\n",
       "</style>\n",
       "<table border=\"1\" class=\"dataframe\">\n",
       "  <thead>\n",
       "    <tr style=\"text-align: right;\">\n",
       "      <th></th>\n",
       "      <th>Attr1</th>\n",
       "      <th>Attr2</th>\n",
       "      <th>Attr3</th>\n",
       "      <th>Attr4</th>\n",
       "      <th>Attr5</th>\n",
       "      <th>Attr6</th>\n",
       "      <th>Attr7</th>\n",
       "      <th>Attr8</th>\n",
       "      <th>Attr9</th>\n",
       "      <th>Attr10</th>\n",
       "      <th>...</th>\n",
       "      <th>Attr56</th>\n",
       "      <th>Attr57</th>\n",
       "      <th>Attr58</th>\n",
       "      <th>Attr59</th>\n",
       "      <th>Attr60</th>\n",
       "      <th>Attr61</th>\n",
       "      <th>Attr62</th>\n",
       "      <th>Attr63</th>\n",
       "      <th>Attr64</th>\n",
       "      <th>outliers_count</th>\n",
       "    </tr>\n",
       "  </thead>\n",
       "  <tbody>\n",
       "    <tr>\n",
       "      <th>0</th>\n",
       "      <td>0.921360</td>\n",
       "      <td>-0.409273</td>\n",
       "      <td>0.650514</td>\n",
       "      <td>-0.189336</td>\n",
       "      <td>0.117814</td>\n",
       "      <td>1.445342</td>\n",
       "      <td>1.064629</td>\n",
       "      <td>-0.288025</td>\n",
       "      <td>-0.487848</td>\n",
       "      <td>0.086002</td>\n",
       "      <td>...</td>\n",
       "      <td>0.277158</td>\n",
       "      <td>0.597884</td>\n",
       "      <td>-0.292476</td>\n",
       "      <td>-0.400173</td>\n",
       "      <td>-0.321922</td>\n",
       "      <td>-0.445583</td>\n",
       "      <td>-0.166694</td>\n",
       "      <td>-0.408969</td>\n",
       "      <td>-0.211351</td>\n",
       "      <td>2</td>\n",
       "    </tr>\n",
       "    <tr>\n",
       "      <th>1</th>\n",
       "      <td>0.978979</td>\n",
       "      <td>-0.009248</td>\n",
       "      <td>0.903404</td>\n",
       "      <td>-0.222416</td>\n",
       "      <td>0.048541</td>\n",
       "      <td>-0.093332</td>\n",
       "      <td>1.117644</td>\n",
       "      <td>-0.367665</td>\n",
       "      <td>0.015922</td>\n",
       "      <td>0.062476</td>\n",
       "      <td>...</td>\n",
       "      <td>0.273015</td>\n",
       "      <td>0.653003</td>\n",
       "      <td>-0.452271</td>\n",
       "      <td>-0.403036</td>\n",
       "      <td>-0.402151</td>\n",
       "      <td>-0.624724</td>\n",
       "      <td>0.094528</td>\n",
       "      <td>-0.553983</td>\n",
       "      <td>1.559376</td>\n",
       "      <td>4</td>\n",
       "    </tr>\n",
       "    <tr>\n",
       "      <th>2</th>\n",
       "      <td>1.244822</td>\n",
       "      <td>0.642250</td>\n",
       "      <td>0.219427</td>\n",
       "      <td>-0.348247</td>\n",
       "      <td>-0.014317</td>\n",
       "      <td>-0.093332</td>\n",
       "      <td>1.431042</td>\n",
       "      <td>-0.500773</td>\n",
       "      <td>-0.335019</td>\n",
       "      <td>-0.583308</td>\n",
       "      <td>...</td>\n",
       "      <td>1.025392</td>\n",
       "      <td>1.612806</td>\n",
       "      <td>-1.007536</td>\n",
       "      <td>0.631175</td>\n",
       "      <td>-0.386316</td>\n",
       "      <td>-0.559583</td>\n",
       "      <td>0.379320</td>\n",
       "      <td>-0.651272</td>\n",
       "      <td>-0.284743</td>\n",
       "      <td>6</td>\n",
       "    </tr>\n",
       "    <tr>\n",
       "      <th>3</th>\n",
       "      <td>0.120825</td>\n",
       "      <td>-0.649115</td>\n",
       "      <td>0.858521</td>\n",
       "      <td>-0.045529</td>\n",
       "      <td>0.195116</td>\n",
       "      <td>0.500658</td>\n",
       "      <td>0.094183</td>\n",
       "      <td>-0.160503</td>\n",
       "      <td>-0.561343</td>\n",
       "      <td>0.314559</td>\n",
       "      <td>...</td>\n",
       "      <td>-0.149413</td>\n",
       "      <td>-0.017764</td>\n",
       "      <td>0.141091</td>\n",
       "      <td>-0.403036</td>\n",
       "      <td>-0.394142</td>\n",
       "      <td>-0.591904</td>\n",
       "      <td>-0.126736</td>\n",
       "      <td>-0.436521</td>\n",
       "      <td>-0.273439</td>\n",
       "      <td>1</td>\n",
       "    </tr>\n",
       "    <tr>\n",
       "      <th>4</th>\n",
       "      <td>0.832409</td>\n",
       "      <td>0.367447</td>\n",
       "      <td>0.094282</td>\n",
       "      <td>-0.396172</td>\n",
       "      <td>-0.038612</td>\n",
       "      <td>0.649036</td>\n",
       "      <td>0.678813</td>\n",
       "      <td>-0.454643</td>\n",
       "      <td>-0.472575</td>\n",
       "      <td>-0.307767</td>\n",
       "      <td>...</td>\n",
       "      <td>0.358084</td>\n",
       "      <td>0.808151</td>\n",
       "      <td>-0.374735</td>\n",
       "      <td>-0.217818</td>\n",
       "      <td>-0.359852</td>\n",
       "      <td>-0.524524</td>\n",
       "      <td>0.304631</td>\n",
       "      <td>-0.629759</td>\n",
       "      <td>-0.195802</td>\n",
       "      <td>0</td>\n",
       "    </tr>\n",
       "    <tr>\n",
       "      <th>...</th>\n",
       "      <td>...</td>\n",
       "      <td>...</td>\n",
       "      <td>...</td>\n",
       "      <td>...</td>\n",
       "      <td>...</td>\n",
       "      <td>...</td>\n",
       "      <td>...</td>\n",
       "      <td>...</td>\n",
       "      <td>...</td>\n",
       "      <td>...</td>\n",
       "      <td>...</td>\n",
       "      <td>...</td>\n",
       "      <td>...</td>\n",
       "      <td>...</td>\n",
       "      <td>...</td>\n",
       "      <td>...</td>\n",
       "      <td>...</td>\n",
       "      <td>...</td>\n",
       "      <td>...</td>\n",
       "      <td>...</td>\n",
       "      <td>...</td>\n",
       "    </tr>\n",
       "    <tr>\n",
       "      <th>43400</th>\n",
       "      <td>-0.340299</td>\n",
       "      <td>0.676447</td>\n",
       "      <td>-0.541755</td>\n",
       "      <td>-0.471722</td>\n",
       "      <td>-0.084338</td>\n",
       "      <td>-0.093332</td>\n",
       "      <td>-0.392245</td>\n",
       "      <td>-0.505761</td>\n",
       "      <td>-0.004563</td>\n",
       "      <td>-0.617597</td>\n",
       "      <td>...</td>\n",
       "      <td>-0.361904</td>\n",
       "      <td>-0.254664</td>\n",
       "      <td>0.563682</td>\n",
       "      <td>1.471475</td>\n",
       "      <td>-0.226868</td>\n",
       "      <td>0.255486</td>\n",
       "      <td>-0.521531</td>\n",
       "      <td>0.021518</td>\n",
       "      <td>-0.381543</td>\n",
       "      <td>3</td>\n",
       "    </tr>\n",
       "    <tr>\n",
       "      <th>43401</th>\n",
       "      <td>-2.926763</td>\n",
       "      <td>1.543195</td>\n",
       "      <td>-2.761088</td>\n",
       "      <td>-0.746879</td>\n",
       "      <td>-0.275446</td>\n",
       "      <td>-2.384202</td>\n",
       "      <td>-2.759900</td>\n",
       "      <td>-0.680407</td>\n",
       "      <td>-0.666742</td>\n",
       "      <td>-2.896270</td>\n",
       "      <td>...</td>\n",
       "      <td>-0.890790</td>\n",
       "      <td>3.212200</td>\n",
       "      <td>0.894888</td>\n",
       "      <td>-0.429953</td>\n",
       "      <td>1.601431</td>\n",
       "      <td>3.362283</td>\n",
       "      <td>-0.181907</td>\n",
       "      <td>-0.397805</td>\n",
       "      <td>-0.287299</td>\n",
       "      <td>20</td>\n",
       "    </tr>\n",
       "    <tr>\n",
       "      <th>43402</th>\n",
       "      <td>-1.630841</td>\n",
       "      <td>2.501233</td>\n",
       "      <td>-1.591620</td>\n",
       "      <td>-0.609417</td>\n",
       "      <td>-0.484764</td>\n",
       "      <td>-0.802925</td>\n",
       "      <td>-1.435942</td>\n",
       "      <td>-0.666755</td>\n",
       "      <td>-0.455504</td>\n",
       "      <td>-2.684841</td>\n",
       "      <td>...</td>\n",
       "      <td>0.446167</td>\n",
       "      <td>0.962431</td>\n",
       "      <td>-0.464269</td>\n",
       "      <td>-1.180630</td>\n",
       "      <td>-0.294914</td>\n",
       "      <td>-0.603965</td>\n",
       "      <td>1.157950</td>\n",
       "      <td>-0.788691</td>\n",
       "      <td>-0.127872</td>\n",
       "      <td>8</td>\n",
       "    </tr>\n",
       "    <tr>\n",
       "      <th>43403</th>\n",
       "      <td>-1.158926</td>\n",
       "      <td>0.801835</td>\n",
       "      <td>-0.619810</td>\n",
       "      <td>-0.498960</td>\n",
       "      <td>-0.076829</td>\n",
       "      <td>-0.524755</td>\n",
       "      <td>-1.153254</td>\n",
       "      <td>-0.574973</td>\n",
       "      <td>-0.751764</td>\n",
       "      <td>-1.285927</td>\n",
       "      <td>...</td>\n",
       "      <td>-1.638691</td>\n",
       "      <td>-3.178582</td>\n",
       "      <td>1.654939</td>\n",
       "      <td>4.858902</td>\n",
       "      <td>-0.219084</td>\n",
       "      <td>-0.355273</td>\n",
       "      <td>-0.161785</td>\n",
       "      <td>-0.412495</td>\n",
       "      <td>-0.425320</td>\n",
       "      <td>13</td>\n",
       "    </tr>\n",
       "    <tr>\n",
       "      <th>43404</th>\n",
       "      <td>-1.135461</td>\n",
       "      <td>0.111753</td>\n",
       "      <td>-0.823306</td>\n",
       "      <td>-0.554799</td>\n",
       "      <td>-0.230893</td>\n",
       "      <td>-0.510924</td>\n",
       "      <td>-1.157950</td>\n",
       "      <td>-0.398953</td>\n",
       "      <td>-0.657210</td>\n",
       "      <td>-0.051519</td>\n",
       "      <td>...</td>\n",
       "      <td>-0.816162</td>\n",
       "      <td>-0.909030</td>\n",
       "      <td>0.818947</td>\n",
       "      <td>-0.398279</td>\n",
       "      <td>-0.334759</td>\n",
       "      <td>-0.485928</td>\n",
       "      <td>0.406615</td>\n",
       "      <td>-0.658596</td>\n",
       "      <td>-0.364589</td>\n",
       "      <td>1</td>\n",
       "    </tr>\n",
       "  </tbody>\n",
       "</table>\n",
       "<p>43160 rows × 62 columns</p>\n",
       "</div>"
      ],
      "text/plain": [
       "          Attr1     Attr2     Attr3     Attr4     Attr5     Attr6     Attr7  \\\n",
       "0      0.921360 -0.409273  0.650514 -0.189336  0.117814  1.445342  1.064629   \n",
       "1      0.978979 -0.009248  0.903404 -0.222416  0.048541 -0.093332  1.117644   \n",
       "2      1.244822  0.642250  0.219427 -0.348247 -0.014317 -0.093332  1.431042   \n",
       "3      0.120825 -0.649115  0.858521 -0.045529  0.195116  0.500658  0.094183   \n",
       "4      0.832409  0.367447  0.094282 -0.396172 -0.038612  0.649036  0.678813   \n",
       "...         ...       ...       ...       ...       ...       ...       ...   \n",
       "43400 -0.340299  0.676447 -0.541755 -0.471722 -0.084338 -0.093332 -0.392245   \n",
       "43401 -2.926763  1.543195 -2.761088 -0.746879 -0.275446 -2.384202 -2.759900   \n",
       "43402 -1.630841  2.501233 -1.591620 -0.609417 -0.484764 -0.802925 -1.435942   \n",
       "43403 -1.158926  0.801835 -0.619810 -0.498960 -0.076829 -0.524755 -1.153254   \n",
       "43404 -1.135461  0.111753 -0.823306 -0.554799 -0.230893 -0.510924 -1.157950   \n",
       "\n",
       "          Attr8     Attr9    Attr10  ...    Attr56    Attr57    Attr58  \\\n",
       "0     -0.288025 -0.487848  0.086002  ...  0.277158  0.597884 -0.292476   \n",
       "1     -0.367665  0.015922  0.062476  ...  0.273015  0.653003 -0.452271   \n",
       "2     -0.500773 -0.335019 -0.583308  ...  1.025392  1.612806 -1.007536   \n",
       "3     -0.160503 -0.561343  0.314559  ... -0.149413 -0.017764  0.141091   \n",
       "4     -0.454643 -0.472575 -0.307767  ...  0.358084  0.808151 -0.374735   \n",
       "...         ...       ...       ...  ...       ...       ...       ...   \n",
       "43400 -0.505761 -0.004563 -0.617597  ... -0.361904 -0.254664  0.563682   \n",
       "43401 -0.680407 -0.666742 -2.896270  ... -0.890790  3.212200  0.894888   \n",
       "43402 -0.666755 -0.455504 -2.684841  ...  0.446167  0.962431 -0.464269   \n",
       "43403 -0.574973 -0.751764 -1.285927  ... -1.638691 -3.178582  1.654939   \n",
       "43404 -0.398953 -0.657210 -0.051519  ... -0.816162 -0.909030  0.818947   \n",
       "\n",
       "         Attr59    Attr60    Attr61    Attr62    Attr63    Attr64  \\\n",
       "0     -0.400173 -0.321922 -0.445583 -0.166694 -0.408969 -0.211351   \n",
       "1     -0.403036 -0.402151 -0.624724  0.094528 -0.553983  1.559376   \n",
       "2      0.631175 -0.386316 -0.559583  0.379320 -0.651272 -0.284743   \n",
       "3     -0.403036 -0.394142 -0.591904 -0.126736 -0.436521 -0.273439   \n",
       "4     -0.217818 -0.359852 -0.524524  0.304631 -0.629759 -0.195802   \n",
       "...         ...       ...       ...       ...       ...       ...   \n",
       "43400  1.471475 -0.226868  0.255486 -0.521531  0.021518 -0.381543   \n",
       "43401 -0.429953  1.601431  3.362283 -0.181907 -0.397805 -0.287299   \n",
       "43402 -1.180630 -0.294914 -0.603965  1.157950 -0.788691 -0.127872   \n",
       "43403  4.858902 -0.219084 -0.355273 -0.161785 -0.412495 -0.425320   \n",
       "43404 -0.398279 -0.334759 -0.485928  0.406615 -0.658596 -0.364589   \n",
       "\n",
       "       outliers_count  \n",
       "0                   2  \n",
       "1                   4  \n",
       "2                   6  \n",
       "3                   1  \n",
       "4                   0  \n",
       "...               ...  \n",
       "43400               3  \n",
       "43401              20  \n",
       "43402               8  \n",
       "43403              13  \n",
       "43404               1  \n",
       "\n",
       "[43160 rows x 62 columns]"
      ]
     },
     "execution_count": 15,
     "metadata": {},
     "output_type": "execute_result"
    }
   ],
   "source": [
    "X"
   ]
  },
  {
   "cell_type": "code",
   "execution_count": 16,
   "metadata": {},
   "outputs": [],
   "source": [
    "X_train_test, X_val, y_train_test, y_val = train_test_split(X, y, random_state=2137, test_size=0.2, stratify=y)\n",
    "X_train, X_test, y_train, y_test = train_test_split(X_train_test, y_train_test, random_state=420, test_size=0.25, stratify=y_train_test)"
   ]
  },
  {
   "cell_type": "markdown",
   "metadata": {},
   "source": [
    "## Modelowanie klasyfikatorów\n",
    "\n",
    "### Miary oceny jakości klasyfikatora\n",
    "* precision / recall / f1 score\n",
    "* confusion matrix\n",
    "* roc auc\n",
    "* ??"
   ]
  },
  {
   "cell_type": "code",
   "execution_count": 17,
   "metadata": {},
   "outputs": [],
   "source": [
    "## procedury pomocnicze\n",
    "\n",
    "# precision / recall\n",
    "def print_precision_recall_report(clf, X_train, y_train, X_test, y_test):\n",
    "    y_train_pred = clf.predict(X_train)\n",
    "    y_test_pred = clf.predict(X_test)\n",
    "\n",
    "    # tabelki precision / recall / f1\n",
    "    def print_precision_recall_table(y, y_pred, title='Zbiór ...'):\n",
    "        print('{:-^29}'.format(title))\n",
    "        print(pd.DataFrame(classification_report(\n",
    "                y, y_pred,\n",
    "                output_dict = True\n",
    "            )).iloc[:-1, :-3].to_string())\n",
    "        print()\n",
    "\n",
    "    print_precision_recall_table(y_train, y_train_pred, 'Zbiór treningowy')\n",
    "    print_precision_recall_table(y_test, y_test_pred, 'Zbiór testowy')\n",
    "\n",
    "    # macierz pomyłek\n",
    "    def plot_confusion_matrix(y, y_pred, title, ax):\n",
    "        conf_mx = confusion_matrix(y, y_pred)\n",
    "        disp = ConfusionMatrixDisplay(confusion_matrix=conf_mx, display_labels=[0, 1])\n",
    "        disp.plot(colorbar=False, cmap=plt.cm.Blues, ax=ax, values_format='d')\n",
    "        ax.grid(False)\n",
    "        ax.set_title(title)\n",
    "        \n",
    "    fig, axs = plt.subplots(1, 2, figsize=(8, 4))\n",
    "    plot_confusion_matrix(y_train, y_train_pred, 'Zbiór treningowy', axs[0])\n",
    "    plot_confusion_matrix(y_test, y_test_pred, 'Zbiór testowy', axs[1])\n",
    "    axs[1].set_ylabel(None)\n",
    "    plt.show()\n",
    "    \n",
    "# roc auc\n",
    "def plot_roc_auc(clf, X_train, y_train, X_test, y_test):\n",
    "    def fpr_tpr_rocauc(X, y):\n",
    "        y_score = clf.decision_function(X)\n",
    "        fpr, tpr, _ = roc_curve(y, y_score)\n",
    "        roc_auc = auc(fpr, tpr)\n",
    "        return (fpr, tpr, roc_auc)\n",
    "    \n",
    "    fpr_train, tpr_train, roc_auc_train = fpr_tpr_rocauc(X_train, y_train)\n",
    "    fpr_test, tpr_test, roc_auc_test = fpr_tpr_rocauc(X_test, y_test)\n",
    "\n",
    "    plt.figure(figsize=(6, 6))\n",
    "    plt.plot(fpr_train, tpr_train, color=\"steelblue\", lw=2, label=\"Train ROC curve (area = %0.2f)\" % roc_auc_train)\n",
    "    plt.plot(fpr_test, tpr_test, color=\"darkorange\", lw=2, label=\"Test ROC curve (area = %0.2f)\" % roc_auc_test)\n",
    "\n",
    "    plt.plot([0, 1], [0, 1], color=\"black\", lw=2, linestyle=\"--\")\n",
    "    plt.xlim([0.0, 1.0])\n",
    "    plt.ylim([0.0, 1.05])\n",
    "    plt.xlabel(\"False Positive Rate\")\n",
    "    plt.ylabel(\"True Positive Rate\")\n",
    "    plt.title(\"Krzywa ROC\")\n",
    "    plt.legend(loc=\"lower right\")\n",
    "    plt.show()"
   ]
  },
  {
   "cell_type": "markdown",
   "metadata": {},
   "source": [
    "### Regresja logistyczna ❤️\n",
    "(przekopiowałem sobie z innej pracy)"
   ]
  },
  {
   "cell_type": "code",
   "execution_count": 18,
   "metadata": {},
   "outputs": [
    {
     "data": {
      "text/plain": [
       "0.9540083410565339"
      ]
     },
     "execution_count": 18,
     "metadata": {},
     "output_type": "execute_result"
    }
   ],
   "source": [
    "clf = LogisticRegression().fit(X_train, y_train)\n",
    "clf.score(X_train, y_train)"
   ]
  },
  {
   "cell_type": "code",
   "execution_count": 16,
   "metadata": {
    "scrolled": true
   },
   "outputs": [
    {
     "data": {
      "text/plain": [
       "0.9543558850787767"
      ]
     },
     "execution_count": 16,
     "metadata": {},
     "output_type": "execute_result"
    }
   ],
   "source": [
    "clf.score(X_test, y_test)"
   ]
  },
  {
   "cell_type": "markdown",
   "metadata": {},
   "source": [
    "Widzimy, że osiągany *score* jest bardzo podejrzanie wysoki. Spójrzmy zatem na inne miary oceny jakości klasyfikatora."
   ]
  },
  {
   "cell_type": "code",
   "execution_count": 17,
   "metadata": {
    "scrolled": false
   },
   "outputs": [
    {
     "name": "stdout",
     "output_type": "stream",
     "text": [
      "------Zbiór treningowy-------\n",
      "                  0         1\n",
      "precision  0.954864  0.747664\n",
      "recall     0.998905  0.064309\n",
      "f1-score   0.976388  0.118431\n",
      "\n",
      "--------Zbiór testowy--------\n",
      "                  0         1\n",
      "precision  0.955408  0.744186\n",
      "recall     0.998661  0.077108\n",
      "f1-score   0.976556  0.139738\n",
      "\n"
     ]
    },
    {
     "data": {
      "image/png": "[encoded data removed]",
      "text/plain": [
       "<Figure size 576x288 with 2 Axes>"
      ]
     },
     "metadata": {},
     "output_type": "display_data"
    },
    {
     "data": {
      "image/png": "[encoded data removed]",
      "text/plain": [
       "<Figure size 432x432 with 1 Axes>"
      ]
     },
     "metadata": {},
     "output_type": "display_data"
    }
   ],
   "source": [
    "print_precision_recall_report(clf, X_train, y_train, X_test, y_test)\n",
    "plot_roc_auc(clf, X_train, y_train, X_test, y_test)"
   ]
  },
  {
   "cell_type": "markdown",
   "metadata": {},
   "source": [
    "Sytuacja nie jest bardzo kolorowa. Model bardzo błędnie klasyfikuje firmy, które faktycznie zbankrutowały (niski *recall*). Ponadto, w tym przypadku krzywa ROC wydaje się mało użyteczna, poniważ przypadki *false positve* są mniejszym problemem. \n",
    "\n",
    "Główną przyczyną słabego dopasowanie wydaje się być niezbalansowanie klas docelowych. Domyślnie w tym modelu każda klasa ma tą samą wagę 1. Ustawiając parametr `class_weight='balanced'` klasy otrzymują wagi odwrotnie proporcjonalne do częstości występowania, czyli klasa `1` (bankructwo) otrzyma bardzo dużą wagę. "
   ]
  },
  {
   "cell_type": "code",
   "execution_count": 18,
   "metadata": {
    "scrolled": false
   },
   "outputs": [
    {
     "name": "stdout",
     "output_type": "stream",
     "text": [
      "------Zbiór treningowy-------\n",
      "                  0         1\n",
      "precision  0.981856  0.129739\n",
      "recall     0.755111  0.723473\n",
      "f1-score   0.853684  0.220022\n",
      "\n",
      "--------Zbiór testowy--------\n",
      "                  0         1\n",
      "precision  0.980383  0.123624\n",
      "recall     0.748083  0.703614\n",
      "f1-score   0.848623  0.210299\n",
      "\n"
     ]
    },
    {
     "data": {
      "image/png": "[encoded data removed]",
      "text/plain": [
       "<Figure size 576x288 with 2 Axes>"
      ]
     },
     "metadata": {},
     "output_type": "display_data"
    }
   ],
   "source": [
    "clf = LogisticRegression(penalty='l1', solver='liblinear', class_weight='balanced').fit(X_train, y_train)\n",
    "print_precision_recall_report(clf, X_train, y_train, X_test, y_test)"
   ]
  },
  {
   "cell_type": "markdown",
   "metadata": {},
   "source": [
    "Widzimy teraz, że *recall* jest całkiem-całkiem, natomiast siada nam zupełnie *precision*. Zapewne odpowiednio manewrując parametrem *class_weight* (bo przyjmuje on też ręcznie ustawione wagi) można by osiągnąć jakiś pożądany kompromis. "
   ]
  },
  {
   "cell_type": "markdown",
   "metadata": {},
   "source": [
    "Spójrzmy jeszcze na wpływ regulacji na model. Za główną miarę przyjmujemy `f1-score`."
   ]
  },
  {
   "cell_type": "code",
   "execution_count": 19,
   "metadata": {},
   "outputs": [
    {
     "data": {
      "image/png": "[encoded data removed]",
      "text/plain": [
       "<Figure size 1152x432 with 1 Axes>"
      ]
     },
     "metadata": {},
     "output_type": "display_data"
    }
   ],
   "source": [
    "models = [\n",
    "    LogisticRegression(penalty='none', solver='lbfgs'),\n",
    "    LogisticRegression(penalty='l1', solver='liblinear'),\n",
    "    LogisticRegression(penalty='l2', solver='liblinear'),\n",
    "    LogisticRegression(penalty='none', solver='lbfgs', class_weight='balanced'),\n",
    "    LogisticRegression(penalty='l1', solver='liblinear', class_weight='balanced'),\n",
    "    LogisticRegression(penalty='l2', solver='liblinear', class_weight='balanced'),\n",
    "]\n",
    "methods = ['Brak regulacji', 'Lasso', 'Ridge', 'Balanced', 'Balanced, Lasso', 'Balanced, Ridge']\n",
    "\n",
    "history = []\n",
    "\n",
    "for i in range(len(models)):\n",
    "    model = models[i].fit(X_train, y_train)\n",
    "    train_f1 = f1_score(y_train, model.predict(X_train))\n",
    "    test_f1 =  f1_score(y_test, model.predict(X_test))\n",
    "    history.extend([(methods[i], train_f1, 'Train'), (methods[i], test_f1, 'Test')])\n",
    "    \n",
    "history_df = pd.DataFrame.from_records(history, columns=['Method', 'Score', 'Set'])\n",
    "sns.barplot(data=history_df, x='Method', y='Score', hue='Set')\n",
    "plt.ylabel('F1-Score')\n",
    "plt.title('Wpływ mtody regulacji na wynik modelu')\n",
    "plt.show()"
   ]
  },
  {
   "cell_type": "markdown",
   "metadata": {},
   "source": [
    "Przyjęta metoda regulacji - brak, *lasso*, *ridge* - zdaje się mieć znikomy wpływ na model. Możliwe, że z odpowiednią wartością siły regulacji `C` metody *lasso* i *ridge* dałyby lepsze rezultaty.\n",
    "\n",
    "#### Podsumowanie\n",
    "Tak czy owak, regresja logistyczna to chyba za słaby model na ten przypadek. Dostrajając hiperparametry wyniki z pewnością uległyby poprawie, jednk raczej nie byłyby one zadowalające. Na słabość modelu mogą mieć wpływ *outliers*, które podobno zaburzają dopasowanie się tego modeli liniowych. "
   ]
  },
  {
   "cell_type": "markdown",
   "metadata": {},
   "source": [
    "## Support Vector Machine"
   ]
  },
  {
   "cell_type": "markdown",
   "metadata": {},
   "source": [
    "### SVM z jądrem liniowym - `LinearSVC`"
   ]
  },
  {
   "cell_type": "code",
   "execution_count": 110,
   "metadata": {
    "scrolled": true
   },
   "outputs": [
    {
     "data": {
      "text/plain": [
       "0.7851791782514674"
      ]
     },
     "execution_count": 110,
     "metadata": {},
     "output_type": "execute_result"
    }
   ],
   "source": [
    "clf = LinearSVC(random_state=0, class_weight='balanced').fit(X_train, y_train)\n",
    "clf.score(X_train, y_train)"
   ]
  },
  {
   "cell_type": "code",
   "execution_count": 111,
   "metadata": {},
   "outputs": [
    {
     "data": {
      "text/plain": [
       "0.7796570898980537"
      ]
     },
     "execution_count": 111,
     "metadata": {},
     "output_type": "execute_result"
    }
   ],
   "source": [
    "clf.score(X_test, y_test)"
   ]
  },
  {
   "cell_type": "code",
   "execution_count": 117,
   "metadata": {},
   "outputs": [
    {
     "name": "stdout",
     "output_type": "stream",
     "text": [
      "------Zbiór treningowy-------\n",
      "                  0         1\n",
      "precision  0.979262  0.138940\n",
      "recall     0.791092  0.668006\n",
      "f1-score   0.875177  0.230035\n",
      "\n",
      "--------Zbiór testowy--------\n",
      "                  0         1\n",
      "precision  0.978047  0.133202\n",
      "recall     0.786175  0.650602\n",
      "f1-score   0.871677  0.221130\n",
      "\n"
     ]
    },
    {
     "data": {
      "image/png": "[encoded data removed]",
      "text/plain": [
       "<Figure size 576x288 with 2 Axes>"
      ]
     },
     "metadata": {},
     "output_type": "display_data"
    }
   ],
   "source": [
    "print_precision_recall_report(clf, X_train, y_train, X_test, y_test)"
   ]
  },
  {
   "cell_type": "markdown",
   "metadata": {},
   "source": [
    "### SVM z jądrem wielomianowym"
   ]
  },
  {
   "cell_type": "code",
   "execution_count": 119,
   "metadata": {},
   "outputs": [
    {
     "data": {
      "text/plain": [
       "0.8936129131912265"
      ]
     },
     "execution_count": 119,
     "metadata": {},
     "output_type": "execute_result"
    }
   ],
   "source": [
    "clf = SVC(random_state=0, kernel='poly', class_weight='balanced').fit(X_train, y_train)\n",
    "clf.score(X_train, y_train)"
   ]
  },
  {
   "cell_type": "code",
   "execution_count": 125,
   "metadata": {},
   "outputs": [
    {
     "data": {
      "text/plain": [
       "0.8755792400370713"
      ]
     },
     "execution_count": 125,
     "metadata": {},
     "output_type": "execute_result"
    }
   ],
   "source": [
    "clf.score(X_test, y_test)"
   ]
  },
  {
   "cell_type": "code",
   "execution_count": 124,
   "metadata": {
    "scrolled": false
   },
   "outputs": [
    {
     "name": "stdout",
     "output_type": "stream",
     "text": [
      "------Zbiór treningowy-------\n",
      "                  0         1\n",
      "precision  0.977204  0.244158\n",
      "recall     0.909460  0.579582\n",
      "f1-score   0.942116  0.343579\n",
      "\n",
      "--------Zbiór testowy--------\n",
      "                  0         1\n",
      "precision  0.967657  0.168844\n",
      "recall     0.899355  0.404819\n",
      "f1-score   0.932257  0.238298\n",
      "\n"
     ]
    },
    {
     "data": {
      "image/png": "[encoded data removed]",
      "text/plain": [
       "<Figure size 576x288 with 2 Axes>"
      ]
     },
     "metadata": {},
     "output_type": "display_data"
    }
   ],
   "source": [
    "print_precision_recall_report(clf, X_train, y_train, X_test, y_test)"
   ]
  },
  {
   "cell_type": "markdown",
   "metadata": {},
   "source": [
    "#### Podsumowanie\n",
    "\n",
    "Metody *Support Vector Machines* dają nam odrobinę większą nadzieję niż regresja logistyczna. *F1-Score* jest odrobinę wyższy niż w regresji logistycznej, a bogactwo hiperparametrów sprawia, że dałoby się wycisnąć coś więcej. \n",
    "\n",
    "Nadal jednak osiągane wyniki nie są wystarczające, co zmusza nas do dalszych poszukiwań."
   ]
  },
  {
   "cell_type": "markdown",
   "metadata": {},
   "source": [
    "### Random Forest"
   ]
  },
  {
   "cell_type": "code",
   "execution_count": 55,
   "metadata": {
    "scrolled": true
   },
   "outputs": [
    {
     "data": {
      "text/plain": [
       "0.9983781278962002"
      ]
     },
     "execution_count": 55,
     "metadata": {},
     "output_type": "execute_result"
    }
   ],
   "source": [
    "rf = RandomForestClassifier(n_estimators = 80, min_samples_split=4, random_state = 0)\n",
    "rf.fit(X_train,y_train)\n",
    "rf.score(X_train, y_train)"
   ]
  },
  {
   "cell_type": "code",
   "execution_count": 46,
   "metadata": {
    "scrolled": true
   },
   "outputs": [
    {
     "data": {
      "text/plain": [
       "0.9528498609823911"
      ]
     },
     "execution_count": 46,
     "metadata": {},
     "output_type": "execute_result"
    }
   ],
   "source": [
    "rf.score(X_test, y_test)"
   ]
  },
  {
   "cell_type": "code",
   "execution_count": 53,
   "metadata": {
    "scrolled": false
   },
   "outputs": [
    {
     "name": "stdout",
     "output_type": "stream",
     "text": [
      "------Zbiór treningowy-------\n",
      "                  0         1\n",
      "precision  0.999351  1.000000\n",
      "recall     1.000000  0.987138\n",
      "f1-score   0.999676  0.993528\n",
      "\n",
      "--------Zbiór testowy--------\n",
      "                  0         1\n",
      "precision  0.954281  0.611111\n",
      "recall     0.998296  0.053012\n",
      "f1-score   0.975793  0.097561\n",
      "\n"
     ]
    },
    {
     "data": {
      "image/png": "[encoded data removed]",
      "text/plain": [
       "<Figure size 576x288 with 2 Axes>"
      ]
     },
     "metadata": {},
     "output_type": "display_data"
    }
   ],
   "source": [
    "print_precision_recall_report(rf, X_train, y_train, X_test, y_test)"
   ]
  },
  {
   "cell_type": "markdown",
   "metadata": {},
   "source": [
    "Wyniki uzyskane przy użyciu RandomForesta okazały się najsłabsze.\n",
    "Co prawda, ten model jak żaden inny dopasował się do danych treningowych. \n",
    "Wydaje się, że ten model nie jest odpowiedni dla naszych danych, jednak można spróbować podziałać coś z hiperparametrami.\n",
    "\n",
    "Co ciekawe, hiperparametr `class_weight` nie wydaje się mieć większego wpływu na działanie modelu."
   ]
  },
  {
   "cell_type": "code",
   "execution_count": 19,
   "metadata": {
    "scrolled": false
   },
   "outputs": [
    {
     "name": "stdout",
     "output_type": "stream",
     "text": [
      "------Zbiór treningowy-------\n",
      "                  0         1\n",
      "precision  0.999878  0.996787\n",
      "recall     0.999838  0.997588\n",
      "f1-score   0.999858  0.997188\n",
      "\n",
      "--------Zbiór testowy--------\n",
      "                  0         1\n",
      "precision  0.953521  0.576923\n",
      "recall     0.998661  0.036145\n",
      "f1-score   0.975569  0.068027\n",
      "\n"
     ]
    },
    {
     "data": {
      "image/png": "[encoded data removed]",
      "text/plain": [
       "<Figure size 576x288 with 2 Axes>"
      ]
     },
     "metadata": {},
     "output_type": "display_data"
    }
   ],
   "source": [
    "rf = RandomForestClassifier(n_estimators = 80, min_samples_split=4, random_state=0, class_weight='balanced')\n",
    "rf.fit(X_train,y_train)\n",
    "print_precision_recall_report(rf, X_train, y_train, X_test, y_test)"
   ]
  },
  {
   "cell_type": "markdown",
   "metadata": {},
   "source": [
    "### XGBoost"
   ]
  },
  {
   "cell_type": "code",
   "execution_count": 34,
   "metadata": {
    "scrolled": true
   },
   "outputs": [
    {
     "data": {
      "text/plain": [
       "0.9582947173308619"
      ]
     },
     "execution_count": 34,
     "metadata": {},
     "output_type": "execute_result"
    }
   ],
   "source": [
    "xgb = xgboost.XGBClassifier(objective='binary:logistic', eval_metric='logloss', max_depth=2, use_label_encoder=False) \n",
    "xgb.fit(X_train,y_train)\n",
    "xgb.score(X_train, y_train)"
   ]
  },
  {
   "cell_type": "code",
   "execution_count": 35,
   "metadata": {},
   "outputs": [
    {
     "data": {
      "text/plain": [
       "0.9570203892493049"
      ]
     },
     "execution_count": 35,
     "metadata": {},
     "output_type": "execute_result"
    }
   ],
   "source": [
    "xgb.score(X_test,y_test)"
   ]
  },
  {
   "cell_type": "code",
   "execution_count": 36,
   "metadata": {},
   "outputs": [
    {
     "name": "stdout",
     "output_type": "stream",
     "text": [
      "------Zbiór treningowy-------\n",
      "                  0         1\n",
      "precision  0.958778  0.898058\n",
      "recall     0.999148  0.148714\n",
      "f1-score   0.978547  0.255172\n",
      "\n",
      "--------Zbiór testowy--------\n",
      "                  0         1\n",
      "precision  0.957653  0.866667\n",
      "recall     0.999026  0.125301\n",
      "f1-score   0.977902  0.218947\n",
      "\n"
     ]
    },
    {
     "data": {
      "image/png": "[encoded data removed]",
      "text/plain": [
       "<Figure size 576x288 with 2 Axes>"
      ]
     },
     "metadata": {},
     "output_type": "display_data"
    }
   ],
   "source": [
    "print_precision_recall_report(xgb, X_train, y_train, X_test, y_test)"
   ]
  },
  {
   "cell_type": "code",
   "execution_count": 39,
   "metadata": {},
   "outputs": [
    {
     "name": "stdout",
     "output_type": "stream",
     "text": [
      "------Zbiór treningowy-------\n",
      "                  0         1\n",
      "precision  0.993113  0.198276\n",
      "recall     0.818919  0.887460\n",
      "f1-score   0.897643  0.324134\n",
      "\n",
      "--------Zbiór testowy--------\n",
      "                  0         1\n",
      "precision  0.985638  0.169329\n",
      "recall     0.810150  0.766265\n",
      "f1-score   0.889319  0.277366\n",
      "\n"
     ]
    },
    {
     "data": {
      "image/png": "[encoded data removed]",
      "text/plain": [
       "<Figure size 576x288 with 2 Axes>"
      ]
     },
     "metadata": {},
     "output_type": "display_data"
    }
   ],
   "source": [
    "# z wagami klas\n",
    "xgb = xgboost.XGBClassifier(objective='binary:logistic', max_depth=2, eval_metric='logloss', use_label_encoder=False, scale_pos_weight= (y==0).sum()/(y==1).sum()) \n",
    "xgb.fit(X_train,y_train)\n",
    "print_precision_recall_report(xgb, X_train, y_train, X_test, y_test)"
   ]
  },
  {
   "cell_type": "markdown",
   "metadata": {},
   "source": [
    "Wyniki uzyskane sodrobinę wyższe od tych uzyskanych przy pomocy LinearSVC. Z pewnością wypadają dużo lepiej niż LienarRegressin czy RandomForest. Precision jest jednak bardzo niski, co niezbyt zadowala. Prawdopodobnie strojąc hiperparametry możnaby wyciągnąc z tego modelu nieco więcej.\n",
    "\n",
    "#### Podsumowanie\n",
    "Wydaje się, że XGBoost to jest najlepszy wybór. Zajmiemy się nim w ramach kolejengo kamienia milowego."
   ]
  }
 ],
 "metadata": {
  "interpreter": {
   "hash": "b3ba2566441a7c06988d0923437866b63cedc61552a5af99d1f4fb67d367b25f"
  },
  "kernelspec": {
   "display_name": "Python 3",
   "language": "python",
   "name": "python3"
  },
  "language_info": {
   "codemirror_mode": {
    "name": "ipython",
    "version": 3
   },
   "file_extension": ".py",
   "mimetype": "text/x-python",
   "name": "python",
   "nbconvert_exporter": "python",
   "pygments_lexer": "ipython3",
   "version": "3.8.8"
  }
 },
 "nbformat": 4,
 "nbformat_minor": 2
}
