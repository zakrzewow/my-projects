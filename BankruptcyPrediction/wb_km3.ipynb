{
 "cells": [
  {
   "cell_type": "markdown",
   "metadata": {},
   "source": [
    "# Projekt - KM3\n",
    "Zbiór danych: https://archive.ics.uci.edu/ml/datasets/Polish+companies+bankruptcy+data"
   ]
  },
  {
   "cell_type": "code",
   "execution_count": 1,
   "metadata": {},
   "outputs": [],
   "source": [
    "import os\n",
    "\n",
    "import matplotlib.pyplot as plt\n",
    "import seaborn as sns\n",
    "\n",
    "import warnings\n",
    "from sklearn.exceptions import ConvergenceWarning\n",
    "warnings.simplefilter(action='ignore', category=FutureWarning)\n",
    "warnings.simplefilter(action='ignore', category=ConvergenceWarning)\n",
    "warnings.simplefilter(action='ignore', category=UserWarning)\n",
    "\n",
    "import numpy as np\n",
    "import pandas as pd\n",
    "\n",
    "from sklearn.model_selection import train_test_split\n",
    "from sklearn.pipeline import Pipeline, make_pipeline\n",
    "from sklearn.base import BaseEstimator, TransformerMixin\n",
    "from sklearn.preprocessing import StandardScaler\n",
    "from sklearn.impute import SimpleImputer\n",
    "\n",
    "from sklearn.metrics import confusion_matrix, precision_score, recall_score, roc_auc_score, roc_curve, auc, f1_score, classification_report, ConfusionMatrixDisplay\n",
    "\n",
    "from sklearn.ensemble import RandomForestClassifier\n",
    "from sklearn.model_selection import GridSearchCV, RandomizedSearchCV\n",
    "from xgboost import XGBClassifier\n",
    "import xgboost as xgb\n",
    "\n",
    "import random\n",
    "import scipy.stats\n",
    "import joblib\n",
    "\n",
    "plt.rcParams['figure.figsize'] = (16,6)\n",
    "sns.set(font_scale = 1.2)\n",
    "sns.set_style(\"ticks\",{'axes.grid' : True})\n",
    "sns.set_palette(\"deep\")"
   ]
  },
  {
   "cell_type": "markdown",
   "metadata": {},
   "source": [
    "### Podsumowanie po KM1\n",
    "* firmy, które zbankrutowały, stanowią niewielką liczbę wszystkich obserwacji, ok. 5%\n",
    "* możemy usunąć kolumny `X27`, `X21`, `X37` ze względu na dużą liczbę braków danych\n",
    "* możemy usunąć w większości puste wiersze\n",
    "* należy zapełnić braki danych w kolumnach, ponieważ każda kolumna pewne braki ma; najlepiej przez medianę, ze względu na wartości odstające\n",
    "* żadna kolumna nie wydaje się być szczególnie mocno skorelowana z naszymi docelowymi kategoriami\n",
    "* istnieją grupy bardzo mocno skorelowanych zmiennych; można rozważyć zostawienie tylko jednej kolumny z każdej grupy\n",
    "* można rozważyć noramlizację zmiennych, ponieważ występuja one w różnych rzędach wielkości \n",
    "* wszystkie zmienne mają bardzo dużo wartości odstających oraz koncentrują się w okolicach zera (poza `X27`)\n",
    "* nie możemy usunąć obserwacji o wielu wartościach odstających, ponieważ byśmy pozbyli się wielu firm, które zbankrutowały\n",
    "\n",
    "### Podsumowanie po KM2\n",
    "Wydaje się, że RandomForest oraz XGBoost to jest najbardziej obiecujące modele."
   ]
  },
  {
   "cell_type": "markdown",
   "metadata": {},
   "source": [
    "## Przygotowanie danych"
   ]
  },
  {
   "cell_type": "code",
   "execution_count": 2,
   "metadata": {
    "scrolled": true
   },
   "outputs": [
    {
     "data": {
      "text/html": [
       "<div>\n",
       "<style scoped>\n",
       "    .dataframe tbody tr th:only-of-type {\n",
       "        vertical-align: middle;\n",
       "    }\n",
       "\n",
       "    .dataframe tbody tr th {\n",
       "        vertical-align: top;\n",
       "    }\n",
       "\n",
       "    .dataframe thead th {\n",
       "        text-align: right;\n",
       "    }\n",
       "</style>\n",
       "<table border=\"1\" class=\"dataframe\">\n",
       "  <thead>\n",
       "    <tr style=\"text-align: right;\">\n",
       "      <th></th>\n",
       "      <th>Attr1</th>\n",
       "      <th>Attr2</th>\n",
       "      <th>Attr3</th>\n",
       "      <th>Attr4</th>\n",
       "      <th>Attr5</th>\n",
       "      <th>Attr6</th>\n",
       "      <th>Attr7</th>\n",
       "      <th>Attr8</th>\n",
       "      <th>Attr9</th>\n",
       "      <th>Attr10</th>\n",
       "      <th>...</th>\n",
       "      <th>Attr58</th>\n",
       "      <th>Attr59</th>\n",
       "      <th>Attr60</th>\n",
       "      <th>Attr61</th>\n",
       "      <th>Attr62</th>\n",
       "      <th>Attr63</th>\n",
       "      <th>Attr64</th>\n",
       "      <th>class</th>\n",
       "      <th>bankruptcy_after</th>\n",
       "      <th>year</th>\n",
       "    </tr>\n",
       "  </thead>\n",
       "  <tbody>\n",
       "    <tr>\n",
       "      <th>0</th>\n",
       "      <td>0.200550</td>\n",
       "      <td>0.37951</td>\n",
       "      <td>0.39641</td>\n",
       "      <td>2.0472</td>\n",
       "      <td>32.3510</td>\n",
       "      <td>0.38825</td>\n",
       "      <td>0.249760</td>\n",
       "      <td>1.33050</td>\n",
       "      <td>1.1389</td>\n",
       "      <td>0.50494</td>\n",
       "      <td>...</td>\n",
       "      <td>0.87804</td>\n",
       "      <td>0.001924</td>\n",
       "      <td>8.4160</td>\n",
       "      <td>5.1372</td>\n",
       "      <td>82.658</td>\n",
       "      <td>4.4158</td>\n",
       "      <td>7.4277</td>\n",
       "      <td>0</td>\n",
       "      <td>0</td>\n",
       "      <td>1</td>\n",
       "    </tr>\n",
       "    <tr>\n",
       "      <th>1</th>\n",
       "      <td>0.209120</td>\n",
       "      <td>0.49988</td>\n",
       "      <td>0.47225</td>\n",
       "      <td>1.9447</td>\n",
       "      <td>14.7860</td>\n",
       "      <td>0.00000</td>\n",
       "      <td>0.258340</td>\n",
       "      <td>0.99601</td>\n",
       "      <td>1.6996</td>\n",
       "      <td>0.49788</td>\n",
       "      <td>...</td>\n",
       "      <td>0.85300</td>\n",
       "      <td>0.000000</td>\n",
       "      <td>4.1486</td>\n",
       "      <td>3.2732</td>\n",
       "      <td>107.350</td>\n",
       "      <td>3.4000</td>\n",
       "      <td>60.9870</td>\n",
       "      <td>0</td>\n",
       "      <td>0</td>\n",
       "      <td>1</td>\n",
       "    </tr>\n",
       "    <tr>\n",
       "      <th>2</th>\n",
       "      <td>0.248660</td>\n",
       "      <td>0.69592</td>\n",
       "      <td>0.26713</td>\n",
       "      <td>1.5548</td>\n",
       "      <td>-1.1523</td>\n",
       "      <td>0.00000</td>\n",
       "      <td>0.309060</td>\n",
       "      <td>0.43695</td>\n",
       "      <td>1.3090</td>\n",
       "      <td>0.30408</td>\n",
       "      <td>...</td>\n",
       "      <td>0.76599</td>\n",
       "      <td>0.694840</td>\n",
       "      <td>4.9909</td>\n",
       "      <td>3.9510</td>\n",
       "      <td>134.270</td>\n",
       "      <td>2.7185</td>\n",
       "      <td>5.2078</td>\n",
       "      <td>0</td>\n",
       "      <td>0</td>\n",
       "      <td>1</td>\n",
       "    </tr>\n",
       "    <tr>\n",
       "      <th>3</th>\n",
       "      <td>0.081483</td>\n",
       "      <td>0.30734</td>\n",
       "      <td>0.45879</td>\n",
       "      <td>2.4928</td>\n",
       "      <td>51.9520</td>\n",
       "      <td>0.14988</td>\n",
       "      <td>0.092704</td>\n",
       "      <td>1.86610</td>\n",
       "      <td>1.0571</td>\n",
       "      <td>0.57353</td>\n",
       "      <td>...</td>\n",
       "      <td>0.94598</td>\n",
       "      <td>0.000000</td>\n",
       "      <td>4.5746</td>\n",
       "      <td>3.6147</td>\n",
       "      <td>86.435</td>\n",
       "      <td>4.2228</td>\n",
       "      <td>5.5497</td>\n",
       "      <td>0</td>\n",
       "      <td>0</td>\n",
       "      <td>1</td>\n",
       "    </tr>\n",
       "    <tr>\n",
       "      <th>4</th>\n",
       "      <td>0.187320</td>\n",
       "      <td>0.61323</td>\n",
       "      <td>0.22960</td>\n",
       "      <td>1.4063</td>\n",
       "      <td>-7.3128</td>\n",
       "      <td>0.18732</td>\n",
       "      <td>0.187320</td>\n",
       "      <td>0.63070</td>\n",
       "      <td>1.1559</td>\n",
       "      <td>0.38677</td>\n",
       "      <td>...</td>\n",
       "      <td>0.86515</td>\n",
       "      <td>0.124440</td>\n",
       "      <td>6.3985</td>\n",
       "      <td>4.3158</td>\n",
       "      <td>127.210</td>\n",
       "      <td>2.8692</td>\n",
       "      <td>7.8980</td>\n",
       "      <td>0</td>\n",
       "      <td>0</td>\n",
       "      <td>1</td>\n",
       "    </tr>\n",
       "  </tbody>\n",
       "</table>\n",
       "<p>5 rows × 67 columns</p>\n",
       "</div>"
      ],
      "text/plain": [
       "      Attr1    Attr2    Attr3   Attr4    Attr5    Attr6     Attr7    Attr8  \\\n",
       "0  0.200550  0.37951  0.39641  2.0472  32.3510  0.38825  0.249760  1.33050   \n",
       "1  0.209120  0.49988  0.47225  1.9447  14.7860  0.00000  0.258340  0.99601   \n",
       "2  0.248660  0.69592  0.26713  1.5548  -1.1523  0.00000  0.309060  0.43695   \n",
       "3  0.081483  0.30734  0.45879  2.4928  51.9520  0.14988  0.092704  1.86610   \n",
       "4  0.187320  0.61323  0.22960  1.4063  -7.3128  0.18732  0.187320  0.63070   \n",
       "\n",
       "    Attr9   Attr10  ...   Attr58    Attr59  Attr60  Attr61   Attr62  Attr63  \\\n",
       "0  1.1389  0.50494  ...  0.87804  0.001924  8.4160  5.1372   82.658  4.4158   \n",
       "1  1.6996  0.49788  ...  0.85300  0.000000  4.1486  3.2732  107.350  3.4000   \n",
       "2  1.3090  0.30408  ...  0.76599  0.694840  4.9909  3.9510  134.270  2.7185   \n",
       "3  1.0571  0.57353  ...  0.94598  0.000000  4.5746  3.6147   86.435  4.2228   \n",
       "4  1.1559  0.38677  ...  0.86515  0.124440  6.3985  4.3158  127.210  2.8692   \n",
       "\n",
       "    Attr64  class  bankruptcy_after  year  \n",
       "0   7.4277      0                 0     1  \n",
       "1  60.9870      0                 0     1  \n",
       "2   5.2078      0                 0     1  \n",
       "3   5.5497      0                 0     1  \n",
       "4   7.8980      0                 0     1  \n",
       "\n",
       "[5 rows x 67 columns]"
      ]
     },
     "execution_count": 2,
     "metadata": {},
     "output_type": "execute_result"
    }
   ],
   "source": [
    "df = pd.read_csv(os.path.join('data', 'dataset.csv'))\n",
    "df.head()"
   ]
  },
  {
   "cell_type": "code",
   "execution_count": 3,
   "metadata": {},
   "outputs": [],
   "source": [
    "y = df['class']\n",
    "y2 = df['bankruptcy_after']\n",
    "X = df.drop(['class', 'bankruptcy_after', 'year'], axis = 1)\n",
    "\n",
    "# usunięcie kolumn z wieloma brakami\n",
    "X = X.drop([\"Attr27\",\"Attr21\",\"Attr37\"], axis = 1)\n",
    "\n",
    "colnames = X.columns\n",
    "\n",
    "# usuwamy wiersze, ktore mają więcej niż 7 brakujących wartości\n",
    "y = y[X.isna().sum(axis=1) <= 7]\n",
    "y2 = y2[X.isna().sum(axis=1) <= 7]\n",
    "X = X[X.isna().sum(axis=1) <= 7]\n",
    "\n",
    "# usuwanie kolumn silnie skorelowanych z innymi - do przetestowania\n",
    "class ColumnRemover(BaseEstimator, TransformerMixin):\n",
    "    def __init__(self):\n",
    "        pass\n",
    "    \n",
    "    def fit(self, X, y=None):\n",
    "        return self\n",
    "\n",
    "    def transform(self, X):\n",
    "        tmp = pd.DataFrame(X, columns=np.array([*colnames, 'outliers_count']))\n",
    "        columns_to_drop = ['Attr51', 'Attr2','Attr50', 'Attr4','Attr14', 'Attr18', 'Attr7', 'Attr8', 'Attr36', 'Attr63', 'Attr9', 'Attr10', 'Attr26', 'Attr12', 'Attr31', 'Attr19','Attr43', 'Attr44', 'Attr49', 'Attr56', 'Attr58', 'Attr20','Attr48', 'Attr63', 'Attr22', 'Attr52', 'Attr32', 'Attr34','Attr64', 'Attr53']\n",
    "        return tmp.drop(columns_to_drop, axis = 1)\n",
    "\n",
    "# przycinanie outlierów + dodanie kolumny informującej o ich liczbie\n",
    "class OutlierCutter(BaseEstimator, TransformerMixin):\n",
    "    def __init__(self):\n",
    "        self._Q025 = None\n",
    "        self._Q975 = None\n",
    "    \n",
    "    def fit(self, X, y=None):\n",
    "        X = pd.DataFrame(X)\n",
    "        self._Q025 = X.quantile(0.025)\n",
    "        self._Q975 = X.quantile(0.975)\n",
    "        return self\n",
    "\n",
    "    def transform(self, X):\n",
    "        tmp = pd.DataFrame(X.copy())\n",
    "        \n",
    "        tmp['outliers_count'] = ((tmp < self._Q025) | (tmp > self._Q975)).sum(axis=1)\n",
    "        \n",
    "        for col in tmp.columns[:-1]:\n",
    "            tmp.loc[tmp[col] < self._Q025[col], col] = self._Q025[col]\n",
    "            tmp.loc[tmp[col] > self._Q975[col], col] = self._Q975[col]\n",
    "        return tmp\n",
    "    \n",
    "preprocessing = make_pipeline(\n",
    "    SimpleImputer(missing_values=np.nan, strategy='median'),  # zastępujemy braki danych w kolumnach medianą\n",
    "    OutlierCutter(),\n",
    "    StandardScaler()\n",
    ")"
   ]
  },
  {
   "cell_type": "markdown",
   "metadata": {},
   "source": [
    "### Podział danych na zbiory treningowy, testowy i walidcyjny\n",
    "Podział w proporcji 60% / 20% / 20%. Zbiór walidcyjny będzie zachowany do finlalnej ewalucji modelu."
   ]
  },
  {
   "cell_type": "code",
   "execution_count": 4,
   "metadata": {
    "scrolled": true
   },
   "outputs": [
    {
     "name": "stdout",
     "output_type": "stream",
     "text": [
      "Zbiór treningowy: (25896, 61)\n",
      "Zbiór testowy: (8632, 61)\n"
     ]
    }
   ],
   "source": [
    "X_train_test, X_val, y_train_test, y_val = train_test_split(X, y, random_state=2137, test_size=0.2, stratify=y)\n",
    "X_train, X_test, y_train, y_test = train_test_split(X_train_test, y_train_test, random_state=420, test_size=0.25, stratify=y_train_test)\n",
    "print(f'Zbiór treningowy: {X_train.shape}')\n",
    "print(f'Zbiór testowy: {X_test.shape}')"
   ]
  },
  {
   "cell_type": "code",
   "execution_count": 5,
   "metadata": {
    "scrolled": false
   },
   "outputs": [],
   "source": [
    "X_train = preprocessing.fit_transform(X_train, y_train)\n",
    "\n",
    "X_test = preprocessing.transform(X_test)\n",
    "X_val = preprocessing.transform(X_val)"
   ]
  },
  {
   "cell_type": "markdown",
   "metadata": {},
   "source": [
    "### Miary oceny jakości klasyfikatora\n",
    "Za główną miarę przyjmujemy **f1-score**, ale będziemy również spoglądać na:\n",
    "* precision / recall\n",
    "* confusion matrix\n",
    "* roc auc"
   ]
  },
  {
   "cell_type": "code",
   "execution_count": 6,
   "metadata": {},
   "outputs": [],
   "source": [
    "## procedury pomocnicze\n",
    "\n",
    "# precision / recall\n",
    "def print_precision_recall_report(clf, X_train, y_train, X_test, y_test):\n",
    "    y_train_pred = clf.predict(X_train)\n",
    "    y_test_pred = clf.predict(X_test)\n",
    "\n",
    "    # tabelki precision / recall / f1\n",
    "    def print_precision_recall_table(y, y_pred, title='Zbiór ...'):\n",
    "        print('{:-^29}'.format(title))\n",
    "        print(pd.DataFrame(classification_report(\n",
    "                y, y_pred,\n",
    "                output_dict = True\n",
    "            )).iloc[:-1, :-3].to_string())\n",
    "        print()\n",
    "\n",
    "    print_precision_recall_table(y_train, y_train_pred, 'Zbiór treningowy')\n",
    "    print_precision_recall_table(y_test, y_test_pred, 'Zbiór testowy')\n",
    "\n",
    "    # macierz pomyłek\n",
    "    def plot_confusion_matrix(y, y_pred, title, ax):\n",
    "        conf_mx = confusion_matrix(y, y_pred)\n",
    "        disp = ConfusionMatrixDisplay(confusion_matrix=conf_mx, display_labels=[0, 1])\n",
    "        disp.plot(colorbar=False, cmap=plt.cm.Blues, ax=ax, values_format='d')\n",
    "        ax.grid(False)\n",
    "        ax.set_title(title)\n",
    "        \n",
    "    fig, axs = plt.subplots(1, 2, figsize=(6, 3))\n",
    "    plot_confusion_matrix(y_train, y_train_pred, 'Zbiór treningowy', axs[0])\n",
    "    plot_confusion_matrix(y_test, y_test_pred, 'Zbiór testowy', axs[1])\n",
    "    axs[1].set_ylabel(None)\n",
    "    plt.show()\n",
    "    \n",
    "# roc auc\n",
    "def plot_roc_auc(clf, X_train, y_train, X_test, y_test):\n",
    "    def fpr_tpr_rocauc(X, y):\n",
    "        y_score = clf.predict_proba(X)[:, 1]\n",
    "        fpr, tpr, _ = roc_curve(y, y_score)\n",
    "        roc_auc = auc(fpr, tpr)\n",
    "        return (fpr, tpr, roc_auc)\n",
    "    \n",
    "    fpr_train, tpr_train, roc_auc_train = fpr_tpr_rocauc(X_train, y_train)\n",
    "    fpr_test, tpr_test, roc_auc_test = fpr_tpr_rocauc(X_test, y_test)\n",
    "\n",
    "    plt.figure(figsize=(5, 5))\n",
    "    plt.plot(fpr_train, tpr_train, color=\"steelblue\", lw=2, label=\"Train ROC curve (area = %0.2f)\" % roc_auc_train)\n",
    "    plt.plot(fpr_test, tpr_test, color=\"darkorange\", lw=2, label=\"Test ROC curve (area = %0.2f)\" % roc_auc_test)\n",
    "\n",
    "    plt.plot([0, 1], [0, 1], color=\"black\", lw=2, linestyle=\"--\")\n",
    "    plt.xlim([0.0, 1.0])\n",
    "    plt.ylim([0.0, 1.05])\n",
    "    plt.xlabel(\"False Positive Rate\")\n",
    "    plt.ylabel(\"True Positive Rate\")\n",
    "    plt.title(\"Krzywa ROC\")\n",
    "    plt.legend(loc=\"lower right\")\n",
    "    plt.show()"
   ]
  },
  {
   "cell_type": "markdown",
   "metadata": {},
   "source": [
    "## Random Forest\n",
    "Przy KM2 ten model bardzo dopasował się do danych trenignowych i na zbiorze testowym osiągnął mizerne wyniki. Spróbujemy temu zaradzić przez optymalizację hiperparametrów."
   ]
  },
  {
   "cell_type": "code",
   "execution_count": 7,
   "metadata": {},
   "outputs": [],
   "source": [
    "rf_random_search = RandomizedSearchCV(\n",
    "    RandomForestClassifier(random_state=0),\n",
    "    {\n",
    "        'n_estimators': [300, 400, 500, 600, 700],\n",
    "        'max_depth': [2, 4, 6, 8, 10, None],\n",
    "        'min_samples_split': [2, 4, 6, 10, 15, 20],\n",
    "        'min_samples_leaf': [1, 5, 10, 15, 20, 50],\n",
    "        'max_features': [2, 4, 6, \"auto\", 10],\n",
    "        'max_leaf_nodes': [50, 75, 100, 150],\n",
    "        'class_weight': ['balanced', None]\n",
    "    },\n",
    "    n_iter = 300,\n",
    "    scoring = 'f1',\n",
    "    n_jobs = 5,\n",
    "    cv = 3,\n",
    "    random_state = 42\n",
    ")\n",
    "# rf_random_search.fit(X_train, y_train)\n",
    "# joblib.dump(rf_random_search, 'search/rf_random_search.pkl');\n",
    "rf_random_search = joblib.load('search/rf_random_search.pkl');"
   ]
  },
  {
   "cell_type": "code",
   "execution_count": 8,
   "metadata": {},
   "outputs": [
    {
     "data": {
      "text/plain": [
       "{'n_estimators': 400,\n",
       " 'min_samples_split': 10,\n",
       " 'min_samples_leaf': 20,\n",
       " 'max_leaf_nodes': 150,\n",
       " 'max_features': 10,\n",
       " 'max_depth': None,\n",
       " 'class_weight': 'balanced'}"
      ]
     },
     "execution_count": 8,
     "metadata": {},
     "output_type": "execute_result"
    }
   ],
   "source": [
    "rf_random_search.best_params_"
   ]
  },
  {
   "cell_type": "code",
   "execution_count": 9,
   "metadata": {
    "scrolled": false
   },
   "outputs": [
    {
     "name": "stdout",
     "output_type": "stream",
     "text": [
      "------Zbiór treningowy-------\n",
      "                  0         1\n",
      "precision  0.986247  0.303426\n",
      "recall     0.913394  0.747588\n",
      "f1-score   0.948424  0.431655\n",
      "\n",
      "--------Zbiór testowy--------\n",
      "                  0         1\n",
      "precision  0.975565  0.224510\n",
      "recall     0.903736  0.551807\n",
      "f1-score   0.938278  0.319164\n",
      "\n"
     ]
    },
    {
     "data": {
      "image/png": "[encoded data removed]",
      "text/plain": [
       "<Figure size 432x216 with 2 Axes>"
      ]
     },
     "metadata": {},
     "output_type": "display_data"
    },
    {
     "data": {
      "image/png": "[encoded data removed]",
      "text/plain": [
       "<Figure size 360x360 with 1 Axes>"
      ]
     },
     "metadata": {},
     "output_type": "display_data"
    }
   ],
   "source": [
    "print_precision_recall_report(rf_random_search.best_estimator_, X_train, y_train, X_test, y_test)\n",
    "plot_roc_auc(rf_random_search.best_estimator_, X_train, y_train, X_test, y_test)"
   ]
  },
  {
   "cell_type": "markdown",
   "metadata": {},
   "source": [
    "Widzimy już pewną poprawę, ale widzimy, że:\n",
    "* drzewa nie mają ograniczonej głębokości\n",
    "* między krzywymi *roc* odpowiadającymi zbiorom trenignowemu i testowemu jest spora przerwa. \n",
    "co może świadczyć o nadal zbyt dużym dopasowaniu modelu do danych treningowych.\n",
    "\n",
    "Mając na uwadze znalezione parametry spróbujemy raz jeszcze ich poszukać przy zawężonych kryteriach i 5-krotnej cross-walidacji."
   ]
  },
  {
   "cell_type": "code",
   "execution_count": 10,
   "metadata": {},
   "outputs": [],
   "source": [
    "rf_random_search2 = RandomizedSearchCV(\n",
    "    RandomForestClassifier\n",
    "    (\n",
    "        n_estimators = 500,\n",
    "        class_weight = 'balanced',\n",
    "        random_state = 0\n",
    "    ),\n",
    "    {\n",
    "        'max_depth': [6, 8, 10, 12],\n",
    "        'min_samples_split': [10, 15, 20],\n",
    "        'min_samples_leaf': [15, 20, 25],\n",
    "        'max_features': [6, 8, 10, 12],\n",
    "        'max_leaf_nodes': [100, 125, 150, 175, 200]\n",
    "    },\n",
    "    n_iter = 100,\n",
    "    scoring = 'f1',\n",
    "    n_jobs = 5,\n",
    "    cv = 5,\n",
    "    random_state = 42\n",
    ")\n",
    "# rf_random_search2.fit(X_train, y_train)\n",
    "# joblib.dump(rf_random_search2, 'search/rf_random_search2.pkl');\n",
    "rf_random_search2 = joblib.load('search/rf_random_search2.pkl')"
   ]
  },
  {
   "cell_type": "code",
   "execution_count": 11,
   "metadata": {},
   "outputs": [
    {
     "data": {
      "text/plain": [
       "{'min_samples_split': 15,\n",
       " 'min_samples_leaf': 20,\n",
       " 'max_leaf_nodes': 175,\n",
       " 'max_features': 12,\n",
       " 'max_depth': 12}"
      ]
     },
     "execution_count": 11,
     "metadata": {},
     "output_type": "execute_result"
    }
   ],
   "source": [
    "rf_random_search2.best_params_"
   ]
  },
  {
   "cell_type": "code",
   "execution_count": 12,
   "metadata": {
    "scrolled": false
   },
   "outputs": [
    {
     "name": "stdout",
     "output_type": "stream",
     "text": [
      "------Zbiór treningowy-------\n",
      "                  0         1\n",
      "precision  0.986118  0.369968\n",
      "recall     0.936516  0.738746\n",
      "f1-score   0.960677  0.493026\n",
      "\n",
      "--------Zbiór testowy--------\n",
      "                  0         1\n",
      "precision  0.974572  0.267990\n",
      "recall     0.928198  0.520482\n",
      "f1-score   0.950820  0.353808\n",
      "\n"
     ]
    },
    {
     "data": {
      "image/png": "[encoded data removed]",
      "text/plain": [
       "<Figure size 432x216 with 2 Axes>"
      ]
     },
     "metadata": {},
     "output_type": "display_data"
    }
   ],
   "source": [
    "print_precision_recall_report(rf_random_search2.best_estimator_, X_train, y_train, X_test, y_test)"
   ]
  },
  {
   "cell_type": "markdown",
   "metadata": {},
   "source": [
    "#### Podsumowanie\n",
    "Z modelu *Random Forest Classifier* nic więcej nie uda nam się wycisnąć. Na zbiorze testowym uzystkaliśmy *f1-score* na poziomie 0.3538, co znacznie przewyższa wyniki wszystkich modeli przetestowanych podczas KM2. Jednak nadal wynik zdecydowanie nie jest satysfakcjonujący."
   ]
  },
  {
   "cell_type": "markdown",
   "metadata": {},
   "source": [
    "## XGBoost\n",
    "XGBoost bez strojenia wypadł na tle inych modeli dośc obiecująco. Spróbujemy jescze polepszyć jego wyniki szukając odpowiednich hiperparametrów. "
   ]
  },
  {
   "cell_type": "markdown",
   "metadata": {},
   "source": [
    "#### 1. poszukiwanie - orientacja w sytuacji"
   ]
  },
  {
   "cell_type": "code",
   "execution_count": 13,
   "metadata": {},
   "outputs": [],
   "source": [
    "params_rand = {\n",
    "    'n_estimators': range(100, 501, 50),\n",
    "    'max_depth': range(2, 10, 2),\n",
    "    'gamma': np.arange(0, 1.0, 0.2),\n",
    "    'min_child_weight': range(2, 20, 3),\n",
    "    'subsample': np.arange(0.2, 1.0, 0.2),\n",
    "    'colsample_bytree': np.arange(0.2, 1.0, 0.2)\n",
    "}\n",
    "\n",
    "model_xgb = RandomizedSearchCV(\n",
    "    XGBClassifier(objective='binary:logistic', eval_metric='logloss', random_state=0), \n",
    "    params_rand, \n",
    "    scoring = 'f1', \n",
    "    cv = 5, \n",
    "    verbose = 5, \n",
    "    random_state = 42, \n",
    "    n_jobs = 5, \n",
    "    n_iter = 50\n",
    ")"
   ]
  },
  {
   "cell_type": "code",
   "execution_count": 14,
   "metadata": {
    "scrolled": true
   },
   "outputs": [
    {
     "data": {
      "text/plain": [
       "array([0. , 0.2, 0.4, 0.6, 0.8])"
      ]
     },
     "execution_count": 14,
     "metadata": {},
     "output_type": "execute_result"
    }
   ],
   "source": [
    "np.arange(0, 1.0, 0.2)"
   ]
  },
  {
   "cell_type": "code",
   "execution_count": 15,
   "metadata": {},
   "outputs": [],
   "source": [
    "# model_xgb.fit(X_train, y_train)\n",
    "# joblib.dump(model_xgb, 'search/xgb_random_search.pkl');\n",
    "model_xgb = joblib.load('search/xgb_random_search.pkl')"
   ]
  },
  {
   "cell_type": "code",
   "execution_count": 16,
   "metadata": {},
   "outputs": [
    {
     "data": {
      "text/plain": [
       "{'subsample': 0.8,\n",
       " 'n_estimators': 350,\n",
       " 'min_child_weight': 14,\n",
       " 'max_depth': 6,\n",
       " 'gamma': 0.2,\n",
       " 'colsample_bytree': 0.8}"
      ]
     },
     "execution_count": 16,
     "metadata": {},
     "output_type": "execute_result"
    }
   ],
   "source": [
    "model_xgb.best_params_"
   ]
  },
  {
   "cell_type": "code",
   "execution_count": 17,
   "metadata": {},
   "outputs": [
    {
     "name": "stdout",
     "output_type": "stream",
     "text": [
      "------Zbiór treningowy-------\n",
      "                  0         1\n",
      "precision  0.999351  0.998374\n",
      "recall     0.999919  0.987138\n",
      "f1-score   0.999635  0.992724\n",
      "\n",
      "--------Zbiór testowy--------\n",
      "                  0         1\n",
      "precision  0.967211  0.750000\n",
      "recall     0.994402  0.332530\n",
      "f1-score   0.980618  0.460768\n",
      "\n"
     ]
    },
    {
     "data": {
      "image/png": "[encoded data removed]",
      "text/plain": [
       "<Figure size 432x216 with 2 Axes>"
      ]
     },
     "metadata": {},
     "output_type": "display_data"
    }
   ],
   "source": [
    "print_precision_recall_report(model_xgb.best_estimator_, X_train, y_train, X_test, y_test)"
   ]
  },
  {
   "cell_type": "markdown",
   "metadata": {},
   "source": [
    "#### 2. poszukiwanie - zawężenie siatki parametrów\n",
    "Zawężamy przestrzeń parametrów, którą teraz przeszukamy za pomocą `GridSearchCV`."
   ]
  },
  {
   "cell_type": "code",
   "execution_count": 18,
   "metadata": {},
   "outputs": [],
   "source": [
    "params = {\n",
    "    'min_child_weight': [8, 10, 12, 14, 16],\n",
    "    'max_depth': [3, 6, 9]\n",
    "}\n",
    "\n",
    "model2_xgb = GridSearchCV(\n",
    "    XGBClassifier(objective='binary:logistic', eval_metric='logloss', random_state=0, n_estimators=600), \n",
    "    params, \n",
    "    scoring = 'f1', \n",
    "    cv = 5, \n",
    "    verbose = 3, \n",
    "    n_jobs= 5\n",
    ")"
   ]
  },
  {
   "cell_type": "code",
   "execution_count": 19,
   "metadata": {
    "scrolled": false
   },
   "outputs": [],
   "source": [
    "# model2_xgb.fit(X_train, y_train)\n",
    "# joblib.dump(model2_xgb, 'search/model2_xgb.pkl');\n",
    "model2_xgb = joblib.load('search/model2_xgb.pkl')"
   ]
  },
  {
   "cell_type": "code",
   "execution_count": 20,
   "metadata": {},
   "outputs": [
    {
     "data": {
      "text/plain": [
       "{'max_depth': 6, 'min_child_weight': 8}"
      ]
     },
     "execution_count": 20,
     "metadata": {},
     "output_type": "execute_result"
    }
   ],
   "source": [
    "model2_xgb.best_params_"
   ]
  },
  {
   "cell_type": "markdown",
   "metadata": {},
   "source": [
    "#### 3. poszukiwanie - poprawka\n",
    "Wydaje się, że parametr `min_child_weight` chce przyjąć jeszcze mniejsze wartości. Sprawdźmy to."
   ]
  },
  {
   "cell_type": "code",
   "execution_count": 21,
   "metadata": {},
   "outputs": [],
   "source": [
    "params = {\n",
    "    'min_child_weight': [1, 2, 4, 6],\n",
    "    'max_depth': [3, 6]\n",
    "}\n",
    "\n",
    "model3_xgb = GridSearchCV(\n",
    "    XGBClassifier(objective='binary:logistic', eval_metric='logloss', random_state=0, n_estimators=600), \n",
    "    params, \n",
    "    scoring = 'f1', \n",
    "    cv = 5, \n",
    "    verbose = 3, \n",
    "    n_jobs= 5\n",
    ")"
   ]
  },
  {
   "cell_type": "code",
   "execution_count": 22,
   "metadata": {},
   "outputs": [],
   "source": [
    "# model3_xgb.fit(X_train, y_train)\n",
    "# joblib.dump(model3_xgb, 'search/model3_xgb.pkl');\n",
    "model3_xgb = joblib.load('search/model3_xgb.pkl')"
   ]
  },
  {
   "cell_type": "code",
   "execution_count": 23,
   "metadata": {},
   "outputs": [
    {
     "data": {
      "text/plain": [
       "{'max_depth': 6, 'min_child_weight': 4}"
      ]
     },
     "execution_count": 23,
     "metadata": {},
     "output_type": "execute_result"
    }
   ],
   "source": [
    "model3_xgb.best_params_"
   ]
  },
  {
   "cell_type": "code",
   "execution_count": 24,
   "metadata": {
    "scrolled": false
   },
   "outputs": [
    {
     "name": "stdout",
     "output_type": "stream",
     "text": [
      "------Zbiór treningowy-------\n",
      "                  0         1\n",
      "precision  1.000000  0.997594\n",
      "recall     0.999878  1.000000\n",
      "f1-score   0.999939  0.998796\n",
      "\n",
      "--------Zbiór testowy--------\n",
      "                  0         1\n",
      "precision  0.969306  0.804124\n",
      "recall     0.995375  0.375904\n",
      "f1-score   0.982168  0.512315\n",
      "\n"
     ]
    },
    {
     "data": {
      "image/png": "[encoded data removed]",
      "text/plain": [
       "<Figure size 432x216 with 2 Axes>"
      ]
     },
     "metadata": {},
     "output_type": "display_data"
    }
   ],
   "source": [
    "print_precision_recall_report(model3_xgb.best_estimator_, X_train, y_train, X_test, y_test)"
   ]
  },
  {
   "cell_type": "markdown",
   "metadata": {},
   "source": [
    "Otrzymaliśmy trochę lepsze wyniki. Przebiliśmy próg 0.5 w metryce *f1*. Spójrzmy na krzywą *roc*."
   ]
  },
  {
   "cell_type": "code",
   "execution_count": 25,
   "metadata": {
    "scrolled": false
   },
   "outputs": [
    {
     "data": {
      "image/png": "[encoded data removed]",
      "text/plain": [
       "<Figure size 360x360 with 1 Axes>"
      ]
     },
     "metadata": {},
     "output_type": "display_data"
    }
   ],
   "source": [
    "plot_roc_auc(model2_xgb.best_estimator_, X_train, y_train, X_test, y_test)"
   ]
  },
  {
   "cell_type": "markdown",
   "metadata": {},
   "source": [
    "Widać, że model zbyt dopasował się do danych treningowych. Jednak wynik na zbiorze testowym to najlepsze, co udało się nam dotychczas osiągnąć."
   ]
  },
  {
   "cell_type": "markdown",
   "metadata": {},
   "source": [
    "### XGBoost z ustawionymi wagami klas"
   ]
  },
  {
   "cell_type": "code",
   "execution_count": 26,
   "metadata": {},
   "outputs": [
    {
     "data": {
      "text/plain": [
       "11.886210221793636"
      ]
     },
     "execution_count": 26,
     "metadata": {},
     "output_type": "execute_result"
    }
   ],
   "source": [
    "scale_pos_weight = (y_train == 0).sum() / (y == 1).sum()\n",
    "scale_pos_weight"
   ]
  },
  {
   "cell_type": "code",
   "execution_count": 27,
   "metadata": {},
   "outputs": [],
   "source": [
    "xgb_balanced = GridSearchCV(\n",
    "    XGBClassifier(\n",
    "        n_estimators = 400,\n",
    "        scale_pos_weight = scale_pos_weight,\n",
    "        objective = 'binary:logistic', \n",
    "        eval_metric = 'logloss', \n",
    "        random_state = 0\n",
    "    ), \n",
    "    {\n",
    "        'max_depth': [2, 4, 6, 8],\n",
    "        'min_child_weight': [2, 4, 6],\n",
    "    }, \n",
    "    scoring = 'f1', \n",
    "    cv = 5, \n",
    "    verbose = 5, \n",
    "    n_jobs = -1, \n",
    ")\n",
    "# xgb_balanced.fit(X_train, y_train)\n",
    "# joblib.dump(xgb_balanced, 'search/xgb_balanced.pkl');\n",
    "xgb_balanced = joblib.load('search/xgb_balanced.pkl')"
   ]
  },
  {
   "cell_type": "code",
   "execution_count": 28,
   "metadata": {
    "scrolled": true
   },
   "outputs": [
    {
     "data": {
      "text/plain": [
       "{'max_depth': 6, 'min_child_weight': 4}"
      ]
     },
     "execution_count": 28,
     "metadata": {},
     "output_type": "execute_result"
    }
   ],
   "source": [
    "xgb_balanced.best_params_"
   ]
  },
  {
   "cell_type": "code",
   "execution_count": 29,
   "metadata": {},
   "outputs": [
    {
     "name": "stdout",
     "output_type": "stream",
     "text": [
      "------Zbiór treningowy-------\n",
      "                  0         1\n",
      "precision  1.000000  0.997594\n",
      "recall     0.999878  1.000000\n",
      "f1-score   0.999939  0.998796\n",
      "\n",
      "--------Zbiór testowy--------\n",
      "                  0         1\n",
      "precision  0.972415  0.713178\n",
      "recall     0.990994  0.443373\n",
      "f1-score   0.981617  0.546805\n",
      "\n"
     ]
    },
    {
     "data": {
      "image/png": "[encoded data removed]",
      "text/plain": [
       "<Figure size 432x216 with 2 Axes>"
      ]
     },
     "metadata": {},
     "output_type": "display_data"
    }
   ],
   "source": [
    "print_precision_recall_report(xgb_balanced.best_estimator_, X_train, y_train, X_test, y_test)"
   ]
  },
  {
   "cell_type": "code",
   "execution_count": 30,
   "metadata": {},
   "outputs": [
    {
     "data": {
      "image/png": "[encoded data removed]",
      "text/plain": [
       "<Figure size 360x360 with 1 Axes>"
      ]
     },
     "metadata": {},
     "output_type": "display_data"
    }
   ],
   "source": [
    "plot_roc_auc(xgb_balanced.best_estimator_, X_train, y_train, X_test, y_test)"
   ]
  },
  {
   "cell_type": "markdown",
   "metadata": {},
   "source": [
    "Jak widzimy, ustawienie wag dla klas docelowych daje jeszcze bardziej obiecujący wynik.\n",
    "\n",
    "*XGBoost w ustawionym parametrem `scale_pos_weight` wymaga bardziej dogłębnego zbadania. Nie wzieliśmy poprawki na długi czas poszukiwania hiperparametrów i teraz brakuje nam czasu.*"
   ]
  },
  {
   "cell_type": "markdown",
   "metadata": {},
   "source": [
    "### Dodatek - usuwanie kolumn silnie skorelowanych\n",
    "Kiedyś na etapie analizy danych rozważaliśmy pomysł, żeby usunąć kolumny silnie skorelowane. Jednak teraz pogorszyło to wynik (lecz być może wymagało by to osobnego poszukiwania hiperparametrów)."
   ]
  },
  {
   "cell_type": "code",
   "execution_count": 31,
   "metadata": {},
   "outputs": [
    {
     "data": {
      "text/plain": [
       "0.46461538461538465"
      ]
     },
     "execution_count": 31,
     "metadata": {},
     "output_type": "execute_result"
    }
   ],
   "source": [
    "cr = make_pipeline(\n",
    "    ColumnRemover(),\n",
    "    XGBClassifier(\n",
    "        n_estimators = 400,\n",
    "        max_depth = 6,\n",
    "        min_child_weight = 4,\n",
    "        scale_pos_weight = scale_pos_weight,\n",
    "        objective = 'binary:logistic', \n",
    "        eval_metric = 'logloss', \n",
    "        random_state = 0\n",
    "    )\n",
    ")\n",
    "\n",
    "cr.fit(X_train, y_train)\n",
    "f1_score(y_test, cr.predict(X_test))"
   ]
  },
  {
   "cell_type": "markdown",
   "metadata": {},
   "source": [
    "## Podsumowanie\n",
    "\n",
    "Nie zależy nam na priorytetyzacji *precision* lub *recall*. Dlatego nasza główna metryka to *f1-score*. Zerkamy też na krzywą *roc* i miarę *auc*. \n",
    "\n",
    "Optymalizacja hiperparametrów przyniosła zamierzony efekt:\n",
    "* `RandomForest` zwiększył swój wynik z 0.09 na 0.35 na zbiorze testowym;\n",
    "* `XGBoost` zwiększył swój wynik:\n",
    "    * z 0.21 na 0.51 na zbiorze testowym (bez wag klas);\n",
    "    * z 0.27 na 0.54 na zbiorze testowym (z wagami klas);\n",
    "\n",
    "XGBoost ponownie dał najlepsze wyniki. Niepokoi nas odrobinę tak wysoki wynik na zbiorze trenigowym. Musimy to jeszcze zbadać. Jednakowoż jesteśmy zadowoleni z postępów.\n",
    "\n"
   ]
  }
 ],
 "metadata": {
  "interpreter": {
   "hash": "b3ba2566441a7c06988d0923437866b63cedc61552a5af99d1f4fb67d367b25f"
  },
  "kernelspec": {
   "display_name": "Python 3",
   "language": "python",
   "name": "python3"
  },
  "language_info": {
   "codemirror_mode": {
    "name": "ipython",
    "version": 3
   },
   "file_extension": ".py",
   "mimetype": "text/x-python",
   "name": "python",
   "nbconvert_exporter": "python",
   "pygments_lexer": "ipython3",
   "version": "3.8.8"
  }
 },
 "nbformat": 4,
 "nbformat_minor": 2
}
